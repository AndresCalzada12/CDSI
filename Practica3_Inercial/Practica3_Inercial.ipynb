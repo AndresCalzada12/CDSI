{
 "cells": [
  {
   "cell_type": "markdown",
   "id": "0f7fcfcd-e6b9-484a-9578-fd5e0cbaf796",
   "metadata": {},
   "source": [
    "## Calzada Jasso Andres Geovani *<span style = \"color : Blue\" > 23265539 </span>*"
   ]
  },
  {
   "cell_type": "markdown",
   "id": "2dfae288-3dae-49a3-9063-e25e0a296ca0",
   "metadata": {},
   "source": [
    "### *<span style = \"color : #E3182E\" >Práctica 3: Sensado y análisis inercial</span>*\n",
    "\n",
    "#### *<span style = \"color : #01A9DB\" >Evaluacion de rutina de ejerciacio</span>*\n",
    "\n",
    "En el curso de CDSI se realizó la siguiente práctica, en la cual se llevo a cabo la recolección de datos. \n",
    "\n",
    "El primer paso consta de la recoleccion de datos inerciales. Donde se debe de tener una escenario de recoleción donde se realizará una rutina de ejercicio de bajo impacto, se colocarán 5 IMUs en las extreminades inferiores y espalda baja, ademas de grabar un video para poder realizar el etiquetado de los datos.\n",
    "\n",
    "El segundo paso es tener datos de referencia, donde un experto también realizará la rutina y sus datos sersn utiliazados como gold standard.\n",
    "Así también se clasificaran los videos tomados por el experto para definir que tan bien se realizaron las repeticiones. \n",
    "\n",
    "El tercer paso es Extracción y selección de características donde s debra de tener un enfoque de segmentado para los datos es decir por repeticiones. Donde se deben de extraer  características de cada segmento, se recomiendo que se haga uso de la librería TSFEL. Se recomienda realizar extracción de características.\n",
    "\n",
    "El cuarto paso es la construcción y evalución de modelos, donde se debe de genrar un modelo para determinar si la rutina fue realizada correctamente. Se debe de evaluar el modelo urilizando validación cruzada y analizara los datos mal clasficados. \n",
    "\n",
    "El quinto paso es la validación externa, donde se provera un dataset no etiquetado para evaluar el modelo final.\n",
    "\n",
    "<img src=\"https://www.shutterstock.com/image-photo/portrait-confident-asian-fitness-woman-260nw-761088433.jpg\">"
   ]
  },
  {
   "cell_type": "markdown",
   "id": "08770382-137b-43b7-a4b8-39c8e86751f5",
   "metadata": {
    "jp-MarkdownHeadingCollapsed": true,
    "tags": []
   },
   "source": [
    "# **<span style=\"color:#0000FF\">1. Recolección de datos Inerciales</span>**\n",
    "\n",
    "En esta sección vamos definir las ruta de los archivos .csv donde se tiene los datos recolatados inerciales, estos datos se encuentran separados por persona, donde primero se van a leer todos los archivos para después unirlos en un sólo archivo .csv con todos los datos.\n",
    "\n",
    "También en este puto se hará el análisis exploratorio de los archivos y se elimanaran features recolectadas las cuales no tengan importancia para el entrenamiento."
   ]
  },
  {
   "cell_type": "code",
   "execution_count": null,
   "id": "ee61a0e3-a017-4cc2-81b6-bb8663b89e8a",
   "metadata": {
    "tags": []
   },
   "outputs": [],
   "source": [
    "import pandas as pd "
   ]
  },
  {
   "cell_type": "code",
   "execution_count": null,
   "id": "8de25d86-52f2-4297-913a-e56199d42ccf",
   "metadata": {
    "tags": []
   },
   "outputs": [],
   "source": [
    "# Lista de nombres de archivo\n",
    "nombres_archivos = ['Andres', 'Andrea', 'Ariana', 'Arturo', 'Cristian', 'Juan', 'Leydy', 'Rachel', 'Scarlett']\n",
    "\n",
    "# Diccionario para almacenar los DataFrames\n",
    "archivos = {}\n",
    "\n",
    "# Ciclo para cargar cada archivo CSV en el diccionario\n",
    "for nombre in nombres_archivos:\n",
    "    ruta_archivo = f'Datos/{nombre}.csv'  # Construye la ruta del archivo\n",
    "    archivos[nombre] = pd.read_csv(ruta_archivo)  # Carga el archivo y lo almacena en el diccionario\n"
   ]
  },
  {
   "cell_type": "code",
   "execution_count": null,
   "id": "67d3d412-6812-4bd3-b0ba-5a07b7b29714",
   "metadata": {
    "tags": []
   },
   "outputs": [],
   "source": [
    "archivo_andres = archivos['Andres']\n",
    "archivo_andrea = archivos['Andrea']\n",
    "archivo_ariana = archivos['Ariana']\n",
    "archivo_arturo = archivos['Arturo']\n",
    "archivo_cristian = archivos['Cristian']\n",
    "archivo_juan = archivos['Juan']\n",
    "archivo_leydy = archivos['Leydy']\n",
    "archivo_rachel = archivos['Rachel']\n",
    "archivo_scarlett = archivos['Scarlett']"
   ]
  },
  {
   "cell_type": "markdown",
   "id": "c58377d9-ed80-440d-a169-3e9a745833af",
   "metadata": {},
   "source": [
    "Del siguiente DataFrame podemos obervar que las columnas correspondientes a:\n",
    "\n",
    "1. FrameNumber\n",
    "2. Presure(kPa)\n",
    "3. Altitude(m)\n",
    "4. Temperature (degC)\n",
    "5. HeaveMotion (m)\n",
    "\n",
    "Son columnas que no nos van a proporcionar informaciín relevante para nuestra clasificación, por lo que vamos a proceder a eliminarlas"
   ]
  },
  {
   "cell_type": "code",
   "execution_count": null,
   "id": "4c13d326-e2d1-4fdf-b530-d87bdc64ceac",
   "metadata": {
    "tags": []
   },
   "outputs": [],
   "source": [
    "archivo_andres.info()"
   ]
  },
  {
   "cell_type": "code",
   "execution_count": null,
   "id": "2ea4ca95-b0c0-4e45-ac55-8b7372cf47c6",
   "metadata": {
    "tags": []
   },
   "outputs": [],
   "source": [
    "archivo_andres = archivo_andres.drop([' FrameNumber', ' Pressure (kPa)', ' Altitude (m)', ' Temperature (degC)',' HeaveMotion (m)'], axis =1)\n",
    "archivo_andrea = archivo_andrea.drop([' FrameNumber', ' Pressure (kPa)', ' Altitude (m)', ' Temperature (degC)',' HeaveMotion (m)'], axis =1)\n",
    "archivo_ariana = archivo_ariana.drop([' FrameNumber', ' Pressure (kPa)', ' Altitude (m)', ' Temperature (degC)',' HeaveMotion (m)'], axis =1)\n",
    "archivo_arturo = archivo_arturo.drop([' FrameNumber', ' Pressure (kPa)', ' Altitude (m)', ' Temperature (degC)',' HeaveMotion (m)'], axis =1)\n",
    "archivo_cristian = archivo_cristian.drop([' FrameNumber', ' Pressure (kPa)', ' Altitude (m)', ' Temperature (degC)',' HeaveMotion (m)'], axis =1)\n",
    "archivo_juan = archivo_juan.drop([' FrameNumber', ' Pressure (kPa)', ' Altitude (m)', ' Temperature (degC)',' HeaveMotion (m)'], axis =1)\n",
    "archivo_leydy = archivo_leydy.drop([' FrameNumber', ' Pressure (kPa)', ' Altitude (m)', ' Temperature (degC)',' HeaveMotion (m)'], axis =1)\n",
    "archivo_rachel = archivo_rachel.drop([' FrameNumber', ' Pressure (kPa)', ' Altitude (m)', ' Temperature (degC)',' HeaveMotion (m)'], axis =1)\n",
    "archivo_scarlett = archivo_scarlett.drop([' FrameNumber', ' Pressure (kPa)', ' Altitude (m)', ' Temperature (degC)',' HeaveMotion (m)'], axis =1)"
   ]
  },
  {
   "cell_type": "code",
   "execution_count": null,
   "id": "b0c10c70-38f9-47e8-8348-94117864af72",
   "metadata": {
    "tags": []
   },
   "outputs": [],
   "source": [
    "#Imprimimos un DataFrame al azar para obervar si ya eliminaron de mnaera correcta las columnas de las cuales no se tiene interes \n",
    "archivo_cristian.info()"
   ]
  },
  {
   "cell_type": "markdown",
   "id": "b4e0398b-1cee-4ba6-ab8e-af37f544447d",
   "metadata": {},
   "source": [
    "Una vez que ya tenemos acomodados nuestras fetaures más relevantes, vamos a proceder a concatenar todos los DataFrames en uno solo y guardarlo en un nuevo archivo .csv para que este pueda ser leido nuevamnete sin necesidad de correr todo el script.\n"
   ]
  },
  {
   "cell_type": "code",
   "execution_count": null,
   "id": "0f1f888b-7471-4e09-8123-1bb79a7876c3",
   "metadata": {
    "tags": []
   },
   "outputs": [],
   "source": [
    "df = pd.concat([archivo_andrea,archivo_andres, archivo_ariana, archivo_arturo, archivo_cristian, archivo_juan, archivo_leydy, archivo_rachel, archivo_scarlett], ignore_index=True)\n",
    "df.head()"
   ]
  },
  {
   "cell_type": "code",
   "execution_count": null,
   "id": "759419d9-0bbf-4c61-95cb-222500305a07",
   "metadata": {
    "tags": []
   },
   "outputs": [],
   "source": [
    "df.to_csv('FULL.csv')"
   ]
  },
  {
   "cell_type": "markdown",
   "id": "0f5fcae3-26c6-45fd-bc5c-11d9ebe5ebd8",
   "metadata": {
    "tags": []
   },
   "source": [
    "# **<span style=\"color:#0000FF\">2.Datos de referencia y etiquetado</span>**"
   ]
  },
  {
   "cell_type": "code",
   "execution_count": null,
   "id": "368ae386-244c-4f4d-af2a-6d4c419334b8",
   "metadata": {
    "tags": []
   },
   "outputs": [],
   "source": [
    "# Leemos el archivo de testing.csv\n",
    "testing = pd.read_csv('Datos/testing.csv')"
   ]
  },
  {
   "cell_type": "code",
   "execution_count": null,
   "id": "50d6a29b-4889-455e-970e-bac175388987",
   "metadata": {
    "tags": []
   },
   "outputs": [],
   "source": [
    "#De igual manera vamos a eliminar las columnas que no nos generan importancia\n",
    "testing = testing.drop([' FrameNumber', ' Pressure (kPa)', ' Altitude (m)', ' Temperature (degC)',' HeaveMotion (m)'], axis =1)"
   ]
  },
  {
   "cell_type": "markdown",
   "id": "4e7b7505-d927-49f9-bbd4-dd346290982a",
   "metadata": {
    "tags": []
   },
   "source": [
    "# **<span style=\"color:red\">Correr a partir de aquí el scrip</span>**\n",
    "\n",
    "Favor de descargar la carpeta de <span style=\"color:red\">Datos</span> que se encuentra en GitHub para que se pueda ejecutar bien el scrip. :)\n",
    "\n",
    "# **<span style=\"color:#0000FF\">Evaluación de sentadillas por medio de Machine Learning</span>**\n",
    "\n",
    "# **<span style=\"color:#0000FF\">3. Extracción y selección de características</span>**\n",
    "\n",
    "En esta sección se van a extraer las características de los segmentos, donde se recomienda usar selección de características\n",
    "\n",
    "Vamos a comenzar leyendo nuestro archivo .csv donde se tienen todas las características de todos los participantes "
   ]
  },
  {
   "cell_type": "code",
   "execution_count": 1,
   "id": "cc168af9-d2bb-4a68-8c44-26af5a8a2324",
   "metadata": {
    "tags": []
   },
   "outputs": [
    {
     "data": {
      "text/html": [
       "<div>\n",
       "<style scoped>\n",
       "    .dataframe tbody tr th:only-of-type {\n",
       "        vertical-align: middle;\n",
       "    }\n",
       "\n",
       "    .dataframe tbody tr th {\n",
       "        vertical-align: top;\n",
       "    }\n",
       "\n",
       "    .dataframe thead th {\n",
       "        text-align: right;\n",
       "    }\n",
       "</style>\n",
       "<table border=\"1\" class=\"dataframe\">\n",
       "  <thead>\n",
       "    <tr style=\"text-align: right;\">\n",
       "      <th></th>\n",
       "      <th>Unnamed: 0</th>\n",
       "      <th>SensorId</th>\n",
       "      <th>TimeStamp (s)</th>\n",
       "      <th>AccX (g)</th>\n",
       "      <th>AccY (g)</th>\n",
       "      <th>AccZ (g)</th>\n",
       "      <th>GyroX (deg/s)</th>\n",
       "      <th>GyroY (deg/s)</th>\n",
       "      <th>GyroZ (deg/s)</th>\n",
       "      <th>MagX (uT)</th>\n",
       "      <th>...</th>\n",
       "      <th>EulerY (deg)</th>\n",
       "      <th>EulerZ (deg)</th>\n",
       "      <th>QuatW</th>\n",
       "      <th>QuatX</th>\n",
       "      <th>QuatY</th>\n",
       "      <th>QuatZ</th>\n",
       "      <th>LinAccX (g)</th>\n",
       "      <th>LinAccY (g)</th>\n",
       "      <th>LinAccZ (g)</th>\n",
       "      <th>Class</th>\n",
       "    </tr>\n",
       "  </thead>\n",
       "  <tbody>\n",
       "    <tr>\n",
       "      <th>0</th>\n",
       "      <td>0</td>\n",
       "      <td>1</td>\n",
       "      <td>0.00</td>\n",
       "      <td>0.066376</td>\n",
       "      <td>-0.999555</td>\n",
       "      <td>0.080106</td>\n",
       "      <td>-0.186473</td>\n",
       "      <td>0.771407</td>\n",
       "      <td>-1.015720</td>\n",
       "      <td>-47.033031</td>\n",
       "      <td>...</td>\n",
       "      <td>-0.257393</td>\n",
       "      <td>-0.199440</td>\n",
       "      <td>0.999995</td>\n",
       "      <td>-0.001200</td>\n",
       "      <td>0.002248</td>\n",
       "      <td>0.001738</td>\n",
       "      <td>-0.000798</td>\n",
       "      <td>0.004874</td>\n",
       "      <td>0.004934</td>\n",
       "      <td>2</td>\n",
       "    </tr>\n",
       "    <tr>\n",
       "      <th>1</th>\n",
       "      <td>1</td>\n",
       "      <td>1</td>\n",
       "      <td>0.01</td>\n",
       "      <td>0.058749</td>\n",
       "      <td>-1.001864</td>\n",
       "      <td>0.082250</td>\n",
       "      <td>-0.363923</td>\n",
       "      <td>0.525834</td>\n",
       "      <td>-0.746620</td>\n",
       "      <td>-47.091492</td>\n",
       "      <td>...</td>\n",
       "      <td>-0.250344</td>\n",
       "      <td>-0.193396</td>\n",
       "      <td>0.999996</td>\n",
       "      <td>-0.001171</td>\n",
       "      <td>0.002187</td>\n",
       "      <td>0.001685</td>\n",
       "      <td>0.007115</td>\n",
       "      <td>0.006890</td>\n",
       "      <td>0.006854</td>\n",
       "      <td>2</td>\n",
       "    </tr>\n",
       "    <tr>\n",
       "      <th>2</th>\n",
       "      <td>2</td>\n",
       "      <td>1</td>\n",
       "      <td>0.02</td>\n",
       "      <td>0.052185</td>\n",
       "      <td>-1.004004</td>\n",
       "      <td>0.081673</td>\n",
       "      <td>0.067433</td>\n",
       "      <td>0.339616</td>\n",
       "      <td>-0.618345</td>\n",
       "      <td>-46.448406</td>\n",
       "      <td>...</td>\n",
       "      <td>-0.432559</td>\n",
       "      <td>-0.197299</td>\n",
       "      <td>0.999990</td>\n",
       "      <td>-0.001620</td>\n",
       "      <td>0.003778</td>\n",
       "      <td>0.001716</td>\n",
       "      <td>0.013101</td>\n",
       "      <td>0.005960</td>\n",
       "      <td>0.008488</td>\n",
       "      <td>2</td>\n",
       "    </tr>\n",
       "    <tr>\n",
       "      <th>3</th>\n",
       "      <td>3</td>\n",
       "      <td>1</td>\n",
       "      <td>0.03</td>\n",
       "      <td>0.047747</td>\n",
       "      <td>-1.008838</td>\n",
       "      <td>0.079371</td>\n",
       "      <td>0.327756</td>\n",
       "      <td>-0.387092</td>\n",
       "      <td>-0.698904</td>\n",
       "      <td>-46.769951</td>\n",
       "      <td>...</td>\n",
       "      <td>-0.425295</td>\n",
       "      <td>-0.200849</td>\n",
       "      <td>0.999990</td>\n",
       "      <td>-0.001646</td>\n",
       "      <td>0.003714</td>\n",
       "      <td>0.001747</td>\n",
       "      <td>0.015503</td>\n",
       "      <td>0.002597</td>\n",
       "      <td>0.012837</td>\n",
       "      <td>2</td>\n",
       "    </tr>\n",
       "    <tr>\n",
       "      <th>4</th>\n",
       "      <td>4</td>\n",
       "      <td>1</td>\n",
       "      <td>0.04</td>\n",
       "      <td>0.054218</td>\n",
       "      <td>-1.010572</td>\n",
       "      <td>0.075375</td>\n",
       "      <td>0.405733</td>\n",
       "      <td>-0.820462</td>\n",
       "      <td>-0.853799</td>\n",
       "      <td>-46.769951</td>\n",
       "      <td>...</td>\n",
       "      <td>-0.416158</td>\n",
       "      <td>-0.208649</td>\n",
       "      <td>0.999990</td>\n",
       "      <td>-0.001677</td>\n",
       "      <td>0.003635</td>\n",
       "      <td>0.001815</td>\n",
       "      <td>0.009297</td>\n",
       "      <td>-0.001565</td>\n",
       "      <td>0.014723</td>\n",
       "      <td>2</td>\n",
       "    </tr>\n",
       "  </tbody>\n",
       "</table>\n",
       "<p>5 rows × 23 columns</p>\n",
       "</div>"
      ],
      "text/plain": [
       "   Unnamed: 0  SensorId   TimeStamp (s)   AccX (g)   AccY (g)   AccZ (g)  \\\n",
       "0           0         1            0.00   0.066376  -0.999555   0.080106   \n",
       "1           1         1            0.01   0.058749  -1.001864   0.082250   \n",
       "2           2         1            0.02   0.052185  -1.004004   0.081673   \n",
       "3           3         1            0.03   0.047747  -1.008838   0.079371   \n",
       "4           4         1            0.04   0.054218  -1.010572   0.075375   \n",
       "\n",
       "    GyroX (deg/s)   GyroY (deg/s)   GyroZ (deg/s)   MagX (uT)  ...  \\\n",
       "0       -0.186473        0.771407       -1.015720  -47.033031  ...   \n",
       "1       -0.363923        0.525834       -0.746620  -47.091492  ...   \n",
       "2        0.067433        0.339616       -0.618345  -46.448406  ...   \n",
       "3        0.327756       -0.387092       -0.698904  -46.769951  ...   \n",
       "4        0.405733       -0.820462       -0.853799  -46.769951  ...   \n",
       "\n",
       "    EulerY (deg)   EulerZ (deg)     QuatW     QuatX     QuatY     QuatZ  \\\n",
       "0      -0.257393      -0.199440  0.999995 -0.001200  0.002248  0.001738   \n",
       "1      -0.250344      -0.193396  0.999996 -0.001171  0.002187  0.001685   \n",
       "2      -0.432559      -0.197299  0.999990 -0.001620  0.003778  0.001716   \n",
       "3      -0.425295      -0.200849  0.999990 -0.001646  0.003714  0.001747   \n",
       "4      -0.416158      -0.208649  0.999990 -0.001677  0.003635  0.001815   \n",
       "\n",
       "    LinAccX (g)   LinAccY (g)   LinAccZ (g)  Class  \n",
       "0     -0.000798      0.004874      0.004934      2  \n",
       "1      0.007115      0.006890      0.006854      2  \n",
       "2      0.013101      0.005960      0.008488      2  \n",
       "3      0.015503      0.002597      0.012837      2  \n",
       "4      0.009297     -0.001565      0.014723      2  \n",
       "\n",
       "[5 rows x 23 columns]"
      ]
     },
     "execution_count": 1,
     "metadata": {},
     "output_type": "execute_result"
    }
   ],
   "source": [
    "import pandas as pd\n",
    "from sklearn.feature_selection import mutual_info_classif\n",
    "import matplotlib.pyplot as plt\n",
    "import numpy as np\n",
    "#Leemos el archivo completo FULL.csv\n",
    "df = pd.read_csv('FULL.csv')\n",
    "df.head()"
   ]
  },
  {
   "cell_type": "code",
   "execution_count": 2,
   "id": "9ceaa0ad-93f4-4a57-9644-54951306b12d",
   "metadata": {
    "tags": []
   },
   "outputs": [
    {
     "data": {
      "image/png": "[encoded data removed]",
      "text/plain": [
       "<Figure size 1000x500 with 1 Axes>"
      ]
     },
     "metadata": {},
     "output_type": "display_data"
    }
   ],
   "source": [
    "#El primer paso que vamos a realizar es ver cuales son las características más importantes \n",
    "#Observamos la ganancia de información de cada atributo con respecto a la clase\n",
    "x_nueva = mutual_info_classif(df.iloc[:,0:-1], df.iloc[:,-1])\n",
    "feat_imp = pd.Series(x_nueva, df.columns[0:len(df.columns)-1])\n",
    "fig, ax = plt.subplots(figsize=(10, 5))\n",
    "# Crea el gráfico de barras horizontales\n",
    "feat_imp.plot(ax=ax, title=\"Características con mayor importancia\", kind='barh', color = 'skyblue')\n",
    "plt.show()"
   ]
  },
  {
   "cell_type": "markdown",
   "id": "f25a7829-03d3-4405-baa6-334141fe196d",
   "metadata": {},
   "source": [
    "Dado que en el gráfico anterior se muestran las características con mayor importancia, vamos a realiza nuevamente una eliminación de features por medio de .drop para solamente qudarnos con las features con mayor importancia."
   ]
  },
  {
   "cell_type": "code",
   "execution_count": 3,
   "id": "80ab8f99-2a75-4b27-acbb-bddb593027e3",
   "metadata": {
    "tags": []
   },
   "outputs": [],
   "source": [
    "#Elimnamos las columnas con menos importancia\n",
    "df = df.drop(['Unnamed: 0',' TimeStamp (s)',' GyroX (deg/s)', ' GyroY (deg/s)', ' GyroZ (deg/s)', ' LinAccX (g)', ' LinAccY (g)', ' LinAccZ (g)'], axis=1)"
   ]
  },
  {
   "cell_type": "markdown",
   "id": "44cc9535-9c37-41eb-9f8a-892c28980599",
   "metadata": {},
   "source": [
    "Ahora que ya tenemos el DataFrame con las features que son más relevantes para la extracción de caracterísiticas, vamos a entrenar modelos para poder realizar predicciones, este enfoque lo haremos de la siguiente manera:\n",
    "\n",
    "Vamos a entrenar los modelos con respecto a los sensores, es decir, vamos a entrenar un modelo con los datos sel sensor1, sensor 2, sensor 3, sensor 4 y sensor 5. Para que podamos determinar que sensor funciona mejor para poder realizar la clasificación de las tareas que estamos realizando.\n"
   ]
  },
  {
   "cell_type": "markdown",
   "id": "5b80a8c5-6e3e-471c-8360-d8fc8a5ebee1",
   "metadata": {},
   "source": [
    "#### *<span style = \"color : #01A9DB\" >Para el $Sensor_1$</span>*"
   ]
  },
  {
   "cell_type": "code",
   "execution_count": 4,
   "id": "8dc2afe9-c3d0-477e-a6f3-1bdc149dc2bc",
   "metadata": {
    "tags": []
   },
   "outputs": [],
   "source": [
    "#Separamos nuestro dataFrame con respecto del sensor 1\n",
    "df1 = df[df['SensorId'] == 1]\n",
    "#Separamos nuestras features de nuestra clase\n",
    "X_s1 = df1.iloc[:,1:-1]\n",
    "\n",
    "#Separamos nuestra clase\n",
    "Y_s1  = df1.iloc[:,-1]"
   ]
  },
  {
   "cell_type": "markdown",
   "id": "7a0ad0e8-a127-462e-9686-cc2b0373866d",
   "metadata": {},
   "source": [
    "#### *<span style = \"color : #01A9DB\" >Para el $Sensor_2$</span>*"
   ]
  },
  {
   "cell_type": "code",
   "execution_count": 5,
   "id": "96f051df-ddb7-449b-b928-845642fae8b0",
   "metadata": {
    "tags": []
   },
   "outputs": [],
   "source": [
    "#Separamos nuestro dataFrame con respecto del sensor 1\n",
    "\n",
    "df2 = df[df['SensorId'] == 2]\n",
    "#Separamos nuestras features de nuestra clase\n",
    "X_s2 = df2.iloc[:,1:-1]\n",
    "\n",
    "#Separamos nuestra clase\n",
    "Y_s2  = df2.iloc[:,-1]"
   ]
  },
  {
   "cell_type": "markdown",
   "id": "ebd288e5-b3df-4a2f-8dbc-dc8ea67b37c7",
   "metadata": {},
   "source": [
    "#### *<span style = \"color : #01A9DB\" >Para el $Sensor_3$</span>*"
   ]
  },
  {
   "cell_type": "code",
   "execution_count": 6,
   "id": "a2707d66-b12a-495d-932a-2be3ca850f4b",
   "metadata": {
    "tags": []
   },
   "outputs": [],
   "source": [
    "#Separamos nuestro dataFrame con respecto del sensor 1\n",
    "\n",
    "df3 = df[df['SensorId'] == 3]\n",
    "#Separamos nuestras features de nuestra clase\n",
    "X_s3 = df3.iloc[:,1:-1]\n",
    "\n",
    "#Separamos nuestra clase\n",
    "Y_s3  = df3.iloc[:,-1]"
   ]
  },
  {
   "cell_type": "markdown",
   "id": "a2051602-4fc2-4d7b-80e3-47c309e887e3",
   "metadata": {},
   "source": [
    "#### *<span style = \"color : #01A9DB\" >Para el $Sensor_4$</span>*"
   ]
  },
  {
   "cell_type": "code",
   "execution_count": 7,
   "id": "505c1e5b-da5a-43d6-8463-1f3f0a995f97",
   "metadata": {
    "tags": []
   },
   "outputs": [],
   "source": [
    "#Separamos nuestro dataFrame con respecto del sensor 1\n",
    "\n",
    "df4 = df[df['SensorId'] == 1]\n",
    "#Separamos nuestras features de nuestra clase\n",
    "X_s4 = df4.iloc[:,1:-1]\n",
    "\n",
    "#Separamos nuestra clase\n",
    "Y_s4  = df4.iloc[:,-1]"
   ]
  },
  {
   "cell_type": "markdown",
   "id": "bbe8a435-cdf6-432c-887b-63ec0b317462",
   "metadata": {},
   "source": [
    "#### *<span style = \"color : #01A9DB\" >Para el $Sensor_5$</span>*"
   ]
  },
  {
   "cell_type": "code",
   "execution_count": 8,
   "id": "0b4a1ece-8547-4d6f-9ca5-a31d5d0639ee",
   "metadata": {
    "tags": []
   },
   "outputs": [],
   "source": [
    "#Separamos nuestro dataFrame con respecto del sensor 1\n",
    "\n",
    "df5 = df[df['SensorId'] == 1]\n",
    "#Separamos nuestras features de nuestra clase\n",
    "X_s5 = df5.iloc[:,1:-1]\n",
    "\n",
    "#Separamos nuestra clase\n",
    "Y_s5 = df5.iloc[:,-1]"
   ]
  },
  {
   "cell_type": "markdown",
   "id": "38ce1e0d-77f0-464b-8c0e-3460a72ff772",
   "metadata": {},
   "source": [
    "### **<span style=\"color:green\">Comenzamos con los clasificadores del $Sensor_1$</span>.**"
   ]
  },
  {
   "cell_type": "code",
   "execution_count": 9,
   "id": "c3366a09-09e4-4ed0-a079-ae2e05b924f9",
   "metadata": {},
   "outputs": [],
   "source": [
    "from sklearn.model_selection import cross_val_predict\n",
    "from sklearn.model_selection import cross_val_score\n",
    "from sklearn.metrics import (confusion_matrix, accuracy_score)\n",
    "from sklearn.tree import DecisionTreeClassifier\n",
    "from sklearn.neighbors import KNeighborsClassifier\n",
    "from sklearn.naive_bayes import GaussianNB\n",
    "from sklearn.ensemble import AdaBoostClassifier, RandomForestClassifier\n",
    "from sklearn.linear_model import LogisticRegression\n",
    "from sklearn.ensemble import VotingClassifier\n",
    "from sklearn.metrics import accuracy_score, classification_report\n",
    "from sklearn.svm import SVC\n",
    "from sklearn.gaussian_process import GaussianProcessClassifier\n",
    "from sklearn.model_selection import train_test_split\n",
    "from sklearn.neural_network import MLPClassifier"
   ]
  },
  {
   "cell_type": "code",
   "execution_count": 10,
   "id": "3e8af3e1-076a-4210-8ce5-a423151a9db4",
   "metadata": {},
   "outputs": [
    {
     "data": {
      "text/plain": [
       "((14406, 13), (14406,), (4802, 13), (4802,))"
      ]
     },
     "execution_count": 10,
     "metadata": {},
     "output_type": "execute_result"
    }
   ],
   "source": [
    "#Dividimos nuestro DataFrame en conjuntos para entrenamiento y para prueba\n",
    "x_train, x_test, y_train, y_test = train_test_split(X_s1, Y_s1, random_state=0, shuffle=True)\n",
    "x_train.shape, y_train.shape, x_test.shape, y_test.shape"
   ]
  },
  {
   "cell_type": "markdown",
   "id": "1c55222c-0a7f-4f29-bc28-c2653643b157",
   "metadata": {
    "tags": []
   },
   "source": [
    "#### **<span style=\"color:purple\">Árboles de decisión</span>.**"
   ]
  },
  {
   "cell_type": "code",
   "execution_count": 11,
   "id": "31083837-3986-49e9-99c2-b796579fdda6",
   "metadata": {},
   "outputs": [
    {
     "name": "stdout",
     "output_type": "stream",
     "text": [
      "Decision tree score: 0.977\n",
      "Confusion Matrix : \n",
      " [[2131    0  136]\n",
      " [   0 3162   64]\n",
      " [ 102   63 8748]]\n"
     ]
    }
   ],
   "source": [
    "clf1 = DecisionTreeClassifier()\n",
    "clf1 = clf1.fit(x_train, y_train)\n",
    "y_pred = clf1.predict(x_test)\n",
    "print(\"Decision tree score: {:.3f}\".format(accuracy_score(y_test, y_pred)))\n",
    "\n",
    "#Realizamos la predicción por medio de la validación cruzada con k=10\n",
    "y_pred = cross_val_predict(clf1, x_train, y_train, cv=10)\n",
    "\n",
    "cm = confusion_matrix(y_train, y_pred) \n",
    "print (\"Confusion Matrix : \\n\", cm) "
   ]
  },
  {
   "cell_type": "markdown",
   "id": "d2a818ca-e776-408d-baea-2e9c151774ee",
   "metadata": {},
   "source": [
    "#### **<span style=\"color:purple\">Naive Bayes</span>.**"
   ]
  },
  {
   "cell_type": "code",
   "execution_count": 12,
   "id": "82a6542a-8318-4bf8-a272-1e32fbb7e362",
   "metadata": {},
   "outputs": [
    {
     "name": "stdout",
     "output_type": "stream",
     "text": [
      "Confusion Matrix : \n",
      " [[1015  250 1002]\n",
      " [   0 2385  841]\n",
      " [1035 1078 6800]]\n",
      "Test accuracy =  0.7080383173677635\n"
     ]
    }
   ],
   "source": [
    "clasificador2 = GaussianNB()\n",
    "\n",
    "#Realizamos la predicción por medio de la validación cruzada con k=10\n",
    "y_pred = cross_val_predict(clasificador2, x_train, y_train, cv=10)\n",
    "\n",
    "cm = confusion_matrix(y_train, y_pred) \n",
    "print (\"Confusion Matrix : \\n\", cm) \n",
    "  \n",
    "# accuracy score of the model\n",
    "print('Test accuracy = ', accuracy_score(y_train, y_pred))"
   ]
  },
  {
   "cell_type": "markdown",
   "id": "fd97aed3-4894-4272-a789-848eaa8d574d",
   "metadata": {},
   "source": [
    "#### **<span style=\"color:purple\">Random Forest</span>.**"
   ]
  },
  {
   "cell_type": "code",
   "execution_count": 13,
   "id": "97ffce1e-69e0-422d-a637-589297d1149b",
   "metadata": {},
   "outputs": [
    {
     "name": "stdout",
     "output_type": "stream",
     "text": [
      "Random Forest score: 0.989\n"
     ]
    }
   ],
   "source": [
    "clf3 = RandomForestClassifier()\n",
    "clf3 = clf3.fit(x_train, y_train)\n",
    "y_pred = clf3.predict(x_test)\n",
    "print(\"Random Forest score: {:.3f}\".format(accuracy_score(y_test,y_pred)))"
   ]
  },
  {
   "cell_type": "markdown",
   "id": "4dbf2c6c-f53d-4c8a-a72a-72e44915d720",
   "metadata": {},
   "source": [
    "### **<span style=\"color:green\">Comenzamos con los clasificadores del $Sensor_2$</span>.**"
   ]
  },
  {
   "cell_type": "code",
   "execution_count": 14,
   "id": "394fa58a-3288-443a-a0fe-c7745d4e1263",
   "metadata": {
    "tags": []
   },
   "outputs": [
    {
     "data": {
      "text/plain": [
       "((11891, 13), (11891,), (3964, 13), (3964,))"
      ]
     },
     "execution_count": 14,
     "metadata": {},
     "output_type": "execute_result"
    }
   ],
   "source": [
    "#Dividimos nuestro DataFrame en conjuntos para entrenamiento y para prueba\n",
    "x_train, x_test, y_train, y_test = train_test_split(X_s2, Y_s2, random_state=0, shuffle=True)\n",
    "x_train.shape, y_train.shape, x_test.shape, y_test.shape"
   ]
  },
  {
   "cell_type": "markdown",
   "id": "183228ca-f5a4-4d46-8265-0b5a382a541a",
   "metadata": {
    "tags": []
   },
   "source": [
    "#### **<span style=\"color:purple\">Árboles de decisión</span>.**"
   ]
  },
  {
   "cell_type": "code",
   "execution_count": 15,
   "id": "1e0addb4-9806-481d-9437-78281160c19c",
   "metadata": {},
   "outputs": [
    {
     "name": "stdout",
     "output_type": "stream",
     "text": [
      "Decision tree score: 0.982\n",
      "Confusion Matrix : \n",
      " [[1263    8   63]\n",
      " [   7 3140   48]\n",
      " [  71   44 7247]]\n"
     ]
    }
   ],
   "source": [
    "clf1 = DecisionTreeClassifier()\n",
    "clf1 = clf1.fit(x_train, y_train)\n",
    "y_pred = clf1.predict(x_test)\n",
    "print(\"Decision tree score: {:.3f}\".format(accuracy_score(y_test, y_pred)))\n",
    "\n",
    "#Realizamos la predicción por medio de la validación cruzada con k=10\n",
    "y_pred = cross_val_predict(clf1, x_train, y_train, cv=10)\n",
    "\n",
    "cm = confusion_matrix(y_train, y_pred) \n",
    "print (\"Confusion Matrix : \\n\", cm) "
   ]
  },
  {
   "cell_type": "markdown",
   "id": "c6b140a7-25d7-4499-8cec-82012e09e153",
   "metadata": {},
   "source": [
    "#### **<span style=\"color:purple\">Naive Bayes</span>.**"
   ]
  },
  {
   "cell_type": "code",
   "execution_count": 16,
   "id": "37812eff-5cd9-42d3-b432-575ffde0d7ed",
   "metadata": {},
   "outputs": [
    {
     "name": "stdout",
     "output_type": "stream",
     "text": [
      "Confusion Matrix : \n",
      " [[1064    0  270]\n",
      " [1039 1943  213]\n",
      " [1707    3 5652]]\n",
      "Test accuracy =  0.7281977966529308\n"
     ]
    }
   ],
   "source": [
    "clasificador2 = GaussianNB()\n",
    "\n",
    "#Realizamos la predicción por medio de la validación cruzada con k=10\n",
    "y_pred = cross_val_predict(clasificador2, x_train, y_train, cv=10)\n",
    "\n",
    "cm = confusion_matrix(y_train, y_pred) \n",
    "print (\"Confusion Matrix : \\n\", cm) \n",
    "  \n",
    "# accuracy score of the model\n",
    "print('Test accuracy = ', accuracy_score(y_train, y_pred))"
   ]
  },
  {
   "cell_type": "markdown",
   "id": "97edeb5b-db25-44e6-8fbd-03932e8453b9",
   "metadata": {},
   "source": [
    "#### **<span style=\"color:purple\">Random Forest</span>.**"
   ]
  },
  {
   "cell_type": "code",
   "execution_count": 17,
   "id": "25c96f24-de7b-43f9-84ec-12c80ac9714c",
   "metadata": {},
   "outputs": [
    {
     "name": "stdout",
     "output_type": "stream",
     "text": [
      "Random Forest score: 0.994\n"
     ]
    }
   ],
   "source": [
    "clf3 = RandomForestClassifier()\n",
    "clf3 = clf3.fit(x_train, y_train)\n",
    "y_pred = clf3.predict(x_test)\n",
    "print(\"Random Forest score: {:.3f}\".format(accuracy_score(y_test,y_pred)))"
   ]
  },
  {
   "cell_type": "markdown",
   "id": "2849809b-74d9-45fc-bdc4-f72ecbbcd610",
   "metadata": {},
   "source": [
    "### **<span style=\"color:green\">Comenzamos con los clasificadores del $Sensor_3$</span>.**"
   ]
  },
  {
   "cell_type": "code",
   "execution_count": 18,
   "id": "ede1adc4-629f-4403-a1a1-f59436275c1a",
   "metadata": {
    "tags": []
   },
   "outputs": [
    {
     "data": {
      "text/plain": [
       "((7316, 13), (7316,), (2439, 13), (2439,))"
      ]
     },
     "execution_count": 18,
     "metadata": {},
     "output_type": "execute_result"
    }
   ],
   "source": [
    "#Dividimos nuestro DataFrame en conjuntos para entrenamiento y para prueba\n",
    "x_train, x_test, y_train, y_test = train_test_split(X_s3, Y_s3, random_state=0, shuffle=True)\n",
    "x_train.shape, y_train.shape, x_test.shape, y_test.shape"
   ]
  },
  {
   "cell_type": "markdown",
   "id": "5ac6bbed-b5ab-40de-9403-799d637eef6b",
   "metadata": {
    "tags": []
   },
   "source": [
    "#### **<span style=\"color:purple\">Árboles de decisión</span>.**"
   ]
  },
  {
   "cell_type": "code",
   "execution_count": 19,
   "id": "84f216cd-c088-47e5-ba48-b72ec518b45b",
   "metadata": {
    "tags": []
   },
   "outputs": [
    {
     "name": "stdout",
     "output_type": "stream",
     "text": [
      "Decision tree score: 0.983\n",
      "Confusion Matrix : \n",
      " [[ 656   54]\n",
      " [  48 6558]]\n"
     ]
    }
   ],
   "source": [
    "clf1 = DecisionTreeClassifier()\n",
    "clf1 = clf1.fit(x_train, y_train)\n",
    "y_pred = clf1.predict(x_test)\n",
    "print(\"Decision tree score: {:.3f}\".format(accuracy_score(y_test, y_pred)))\n",
    "\n",
    "#Realizamos la predicción por medio de la validación cruzada con k=10\n",
    "y_pred = cross_val_predict(clf1, x_train, y_train, cv=10)\n",
    "\n",
    "cm = confusion_matrix(y_train, y_pred) \n",
    "print (\"Confusion Matrix : \\n\", cm) "
   ]
  },
  {
   "cell_type": "markdown",
   "id": "db8f4d87-c797-4e79-aa7c-d3d3de1bfec1",
   "metadata": {},
   "source": [
    "#### **<span style=\"color:purple\">Naive Bayes</span>.**"
   ]
  },
  {
   "cell_type": "code",
   "execution_count": 20,
   "id": "4fdecf6c-ddd2-49dc-b5f0-7defbb6c7c74",
   "metadata": {
    "tags": []
   },
   "outputs": [
    {
     "name": "stdout",
     "output_type": "stream",
     "text": [
      "Confusion Matrix : \n",
      " [[ 710    0]\n",
      " [2835 3771]]\n",
      "Test accuracy =  0.6124931656642975\n"
     ]
    }
   ],
   "source": [
    "clasificador2 = GaussianNB()\n",
    "\n",
    "#Realizamos la predicción por medio de la validación cruzada con k=10\n",
    "y_pred = cross_val_predict(clasificador2, x_train, y_train, cv=10)\n",
    "\n",
    "cm = confusion_matrix(y_train, y_pred) \n",
    "print (\"Confusion Matrix : \\n\", cm) \n",
    "  \n",
    "# accuracy score of the model\n",
    "print('Test accuracy = ', accuracy_score(y_train, y_pred))"
   ]
  },
  {
   "cell_type": "markdown",
   "id": "447aa697-2139-44fd-8cb1-38ec0e9e7972",
   "metadata": {},
   "source": [
    "#### **<span style=\"color:purple\">Random Forest</span>.**"
   ]
  },
  {
   "cell_type": "code",
   "execution_count": 21,
   "id": "d40593f8-2415-481c-9a07-2234ba51e92b",
   "metadata": {
    "tags": []
   },
   "outputs": [
    {
     "name": "stdout",
     "output_type": "stream",
     "text": [
      "Random Forest score: 0.995\n"
     ]
    }
   ],
   "source": [
    "clf3 = RandomForestClassifier()\n",
    "clf3 = clf3.fit(x_train, y_train)\n",
    "y_pred = clf3.predict(x_test)\n",
    "print(\"Random Forest score: {:.3f}\".format(accuracy_score(y_test,y_pred)))"
   ]
  },
  {
   "cell_type": "markdown",
   "id": "c51b6de4-5004-48ae-b4ac-34bd440cda68",
   "metadata": {},
   "source": [
    "### **<span style=\"color:green\">Comenzamos con los clasificadores del $Sensor_4$</span>.**"
   ]
  },
  {
   "cell_type": "code",
   "execution_count": 22,
   "id": "942a7f31-4579-4002-b6b0-9dbce5f2d81f",
   "metadata": {
    "tags": []
   },
   "outputs": [
    {
     "data": {
      "text/plain": [
       "((14406, 13), (14406,), (4802, 13), (4802,))"
      ]
     },
     "execution_count": 22,
     "metadata": {},
     "output_type": "execute_result"
    }
   ],
   "source": [
    "#Dividimos nuestro DataFrame en conjuntos para entrenamiento y para prueba\n",
    "x_train, x_test, y_train, y_test = train_test_split(X_s4, Y_s4, random_state=0, shuffle=True)\n",
    "x_train.shape, y_train.shape, x_test.shape, y_test.shape"
   ]
  },
  {
   "cell_type": "markdown",
   "id": "8500ebb2-9744-497d-9ce4-9e28e201b69c",
   "metadata": {
    "tags": []
   },
   "source": [
    "#### **<span style=\"color:purple\">Árboles de decisión</span>.**"
   ]
  },
  {
   "cell_type": "code",
   "execution_count": 23,
   "id": "030ad3a5-78ae-4f09-8b1e-72018913058a",
   "metadata": {
    "tags": []
   },
   "outputs": [
    {
     "name": "stdout",
     "output_type": "stream",
     "text": [
      "Decision tree score: 0.978\n",
      "Confusion Matrix : \n",
      " [[2121    0  146]\n",
      " [   1 3165   60]\n",
      " [ 107   70 8736]]\n"
     ]
    }
   ],
   "source": [
    "clf1 = DecisionTreeClassifier()\n",
    "clf1 = clf1.fit(x_train, y_train)\n",
    "y_pred = clf1.predict(x_test)\n",
    "print(\"Decision tree score: {:.3f}\".format(accuracy_score(y_test, y_pred)))\n",
    "\n",
    "#Realizamos la predicción por medio de la validación cruzada con k=10\n",
    "y_pred = cross_val_predict(clf1, x_train, y_train, cv=10)\n",
    "\n",
    "cm = confusion_matrix(y_train, y_pred) \n",
    "print (\"Confusion Matrix : \\n\", cm) "
   ]
  },
  {
   "cell_type": "markdown",
   "id": "1843d482-3823-463f-95a2-d20fdccfd5b6",
   "metadata": {},
   "source": [
    "#### **<span style=\"color:purple\">Naive Bayes</span>.**"
   ]
  },
  {
   "cell_type": "code",
   "execution_count": 24,
   "id": "fc5f3eff-b4e6-4922-9b97-f513ddf083ed",
   "metadata": {
    "tags": []
   },
   "outputs": [
    {
     "name": "stdout",
     "output_type": "stream",
     "text": [
      "Confusion Matrix : \n",
      " [[1015  250 1002]\n",
      " [   0 2385  841]\n",
      " [1035 1078 6800]]\n",
      "Test accuracy =  0.7080383173677635\n"
     ]
    }
   ],
   "source": [
    "clasificador2 = GaussianNB()\n",
    "\n",
    "#Realizamos la predicción por medio de la validación cruzada con k=10\n",
    "y_pred = cross_val_predict(clasificador2, x_train, y_train, cv=10)\n",
    "\n",
    "cm = confusion_matrix(y_train, y_pred) \n",
    "print (\"Confusion Matrix : \\n\", cm) \n",
    "  \n",
    "# accuracy score of the model\n",
    "print('Test accuracy = ', accuracy_score(y_train, y_pred))"
   ]
  },
  {
   "cell_type": "markdown",
   "id": "640adea0-21e6-4c35-8119-feeaf230cb28",
   "metadata": {},
   "source": [
    "#### **<span style=\"color:purple\">Random Forest</span>.**"
   ]
  },
  {
   "cell_type": "code",
   "execution_count": 25,
   "id": "eb063330-c414-4362-84af-30e25915a8a8",
   "metadata": {
    "tags": []
   },
   "outputs": [
    {
     "name": "stdout",
     "output_type": "stream",
     "text": [
      "Random Forest score: 0.990\n"
     ]
    }
   ],
   "source": [
    "clf3 = RandomForestClassifier()\n",
    "clf3 = clf3.fit(x_train, y_train)\n",
    "y_pred = clf3.predict(x_test)\n",
    "print(\"Random Forest score: {:.3f}\".format(accuracy_score(y_test,y_pred)))"
   ]
  },
  {
   "cell_type": "markdown",
   "id": "05c24cf0-b11e-4b85-bd21-b23daca57f4e",
   "metadata": {},
   "source": [
    "### **<span style=\"color:green\">Comenzamos con los clasificadores del $Sensor_5$</span>.**"
   ]
  },
  {
   "cell_type": "code",
   "execution_count": 26,
   "id": "b2c61a80-faa5-4dff-be3c-c9d52c2fd465",
   "metadata": {
    "tags": []
   },
   "outputs": [
    {
     "data": {
      "text/plain": [
       "((14406, 13), (14406,), (4802, 13), (4802,))"
      ]
     },
     "execution_count": 26,
     "metadata": {},
     "output_type": "execute_result"
    }
   ],
   "source": [
    "#Dividimos nuestro DataFrame en conjuntos para entrenamiento y para prueba\n",
    "x_train, x_test, y_train, y_test = train_test_split(X_s5, Y_s5, random_state=0, shuffle=True)\n",
    "x_train.shape, y_train.shape, x_test.shape, y_test.shape"
   ]
  },
  {
   "cell_type": "markdown",
   "id": "6f1127e3-3429-4122-af95-aa4a992d7a56",
   "metadata": {
    "tags": []
   },
   "source": [
    "#### **<span style=\"color:purple\">Árboles de decisión</span>.**"
   ]
  },
  {
   "cell_type": "code",
   "execution_count": 27,
   "id": "ab66baca-fd6b-4ec4-80a4-b6a02582a07e",
   "metadata": {
    "tags": []
   },
   "outputs": [
    {
     "name": "stdout",
     "output_type": "stream",
     "text": [
      "Decision tree score: 0.978\n",
      "Confusion Matrix : \n",
      " [[2129    0  138]\n",
      " [   0 3168   58]\n",
      " [ 105   67 8741]]\n"
     ]
    }
   ],
   "source": [
    "clf1 = DecisionTreeClassifier()\n",
    "clf1 = clf1.fit(x_train, y_train)\n",
    "y_pred = clf1.predict(x_test)\n",
    "print(\"Decision tree score: {:.3f}\".format(accuracy_score(y_test, y_pred)))\n",
    "\n",
    "#Realizamos la predicción por medio de la validación cruzada con k=10\n",
    "y_pred = cross_val_predict(clf1, x_train, y_train, cv=10)\n",
    "\n",
    "cm = confusion_matrix(y_train, y_pred) \n",
    "print (\"Confusion Matrix : \\n\", cm) "
   ]
  },
  {
   "cell_type": "markdown",
   "id": "fb454b43-d605-4a2f-ba2f-98b3403a415e",
   "metadata": {},
   "source": [
    "#### **<span style=\"color:purple\">Naive Bayes</span>.**"
   ]
  },
  {
   "cell_type": "code",
   "execution_count": 28,
   "id": "a5799a27-3b99-43f4-b0d9-7240fddd948b",
   "metadata": {
    "tags": []
   },
   "outputs": [
    {
     "name": "stdout",
     "output_type": "stream",
     "text": [
      "Confusion Matrix : \n",
      " [[1015  250 1002]\n",
      " [   0 2385  841]\n",
      " [1035 1078 6800]]\n",
      "Test accuracy =  0.7080383173677635\n"
     ]
    }
   ],
   "source": [
    "clasificador2 = GaussianNB()\n",
    "\n",
    "#Realizamos la predicción por medio de la validación cruzada con k=10\n",
    "y_pred = cross_val_predict(clasificador2, x_train, y_train, cv=10)\n",
    "\n",
    "cm = confusion_matrix(y_train, y_pred) \n",
    "print (\"Confusion Matrix : \\n\", cm) \n",
    "  \n",
    "# accuracy score of the model\n",
    "print('Test accuracy = ', accuracy_score(y_train, y_pred))"
   ]
  },
  {
   "cell_type": "markdown",
   "id": "83b45a1d-9e66-4d59-a411-34c4d9cf96d3",
   "metadata": {},
   "source": [
    "#### **<span style=\"color:purple\">Random Forest</span>.**"
   ]
  },
  {
   "cell_type": "code",
   "execution_count": null,
   "id": "45afef92-16d7-443b-9911-02d8f81096a4",
   "metadata": {
    "tags": []
   },
   "outputs": [],
   "source": [
    "clf3 = RandomForestClassifier()\n",
    "clf3 = clf3.fit(x_train, y_train)\n",
    "y_pred = clf3.predict(x_test)\n",
    "print(\"Random Forest score: {:.3f}\".format(accuracy_score(y_test,y_pred)))"
   ]
  },
  {
   "cell_type": "markdown",
   "id": "fac659b5-231c-43dd-920d-a1a38466b016",
   "metadata": {
    "tags": []
   },
   "source": [
    "# **<span style=\"color:#0000FF\">5. Validación externa</span>**"
   ]
  },
  {
   "cell_type": "code",
   "execution_count": null,
   "id": "d8c62312-ae89-41a3-abf7-f1ef4d4f1556",
   "metadata": {
    "tags": []
   },
   "outputs": [],
   "source": [
    "testing = pd.read_csv('Datos/validacion.csv')"
   ]
  },
  {
   "cell_type": "code",
   "execution_count": null,
   "id": "e6848c21-0ccb-4d05-8f8b-5914f8fda2a6",
   "metadata": {
    "tags": []
   },
   "outputs": [],
   "source": [
    "testing = testing.drop([' TimeStamp (s)',' GyroX (deg/s)', ' GyroY (deg/s)', ' GyroZ (deg/s)', ' LinAccX (g)', ' LinAccY (g)', ' LinAccZ (g)',' FrameNumber',' Pressure (kPa)',' Altitude (m)', ' Temperature (degC)', ' HeaveMotion (m)' ],axis=1)"
   ]
  },
  {
   "cell_type": "code",
   "execution_count": null,
   "id": "50e9e5da-dc48-4946-9ea7-4089fa3488d7",
   "metadata": {},
   "outputs": [],
   "source": [
    "#Sensor 1\n",
    "test1 = testing[testing['SensorId'] == 1]\n",
    "Prueba1 = test1.iloc[:,1:]"
   ]
  },
  {
   "cell_type": "code",
   "execution_count": null,
   "id": "c6250426-8b1b-4578-960c-eb37f39c13e5",
   "metadata": {
    "tags": []
   },
   "outputs": [],
   "source": [
    "#Sensor 2\n",
    "test2 = testing[testing['SensorId'] == 2]\n",
    "Prueba2 = test2.iloc[:,1:]"
   ]
  },
  {
   "cell_type": "code",
   "execution_count": null,
   "id": "f43ff45a-a87c-4fc8-b8dd-fe2ce24e35b6",
   "metadata": {
    "tags": []
   },
   "outputs": [],
   "source": [
    "#Sensor 3\n",
    "test3 = testing[testing['SensorId'] == 3]\n",
    "Prueba3 = test3.iloc[:,1:]"
   ]
  },
  {
   "cell_type": "code",
   "execution_count": null,
   "id": "2a9b965d-5f56-4187-a810-fd8c309e57dc",
   "metadata": {
    "tags": []
   },
   "outputs": [],
   "source": [
    "#Sensor 4\n",
    "test4 = testing[testing['SensorId'] == 4]\n",
    "Prueba4 = test4.iloc[:,1:]"
   ]
  },
  {
   "cell_type": "markdown",
   "id": "931ae99a-43d3-457d-8e76-8376ae9c19be",
   "metadata": {},
   "source": [
    "Entrenamos el clasificador con los datos de cada sensor "
   ]
  },
  {
   "cell_type": "code",
   "execution_count": null,
   "id": "930c6357-2b47-493f-876f-f5ec5e68745d",
   "metadata": {
    "tags": []
   },
   "outputs": [],
   "source": [
    "clF1 = DecisionTreeClassifier()\n",
    "clF1.fit(X_s1, Y_s1)"
   ]
  },
  {
   "cell_type": "code",
   "execution_count": null,
   "id": "c1e385fe-2611-485c-8fd3-2e647cd3254d",
   "metadata": {
    "tags": []
   },
   "outputs": [],
   "source": [
    "clF2 = DecisionTreeClassifier()\n",
    "clF2.fit(X_s2, Y_s2)"
   ]
  },
  {
   "cell_type": "code",
   "execution_count": null,
   "id": "05ae1a1e-dba9-426b-85dd-745622307d7b",
   "metadata": {
    "tags": []
   },
   "outputs": [],
   "source": [
    "clF3 = DecisionTreeClassifier()\n",
    "clF3.fit(X_s3, Y_s3)"
   ]
  },
  {
   "cell_type": "code",
   "execution_count": null,
   "id": "e2b4377e-61e9-4c79-832b-df5bbc85c102",
   "metadata": {
    "tags": []
   },
   "outputs": [],
   "source": [
    "clF4 = DecisionTreeClassifier()\n",
    "clF4.fit(X_s4, Y_s4)"
   ]
  },
  {
   "cell_type": "markdown",
   "id": "2431dfee-4f7e-463a-98c5-b11dc76675f5",
   "metadata": {},
   "source": [
    "Predicción del sensor 1"
   ]
  },
  {
   "cell_type": "code",
   "execution_count": null,
   "id": "8b0b1af0-6913-4c12-a3ab-f19725dcbb40",
   "metadata": {
    "tags": []
   },
   "outputs": [],
   "source": [
    "prediccion_sensor1 = clF1.predict(Prueba1)\n",
    "print('La predicción de la primer sentadilla es: ', np.round(np.mean(prediccion_sensor1[0:146])))\n",
    "print('La predicción de la segunda sentadilla es: ', np.round(np.mean(prediccion_sensor1[147:294])))\n",
    "print('La predicción de la tercer sentadilla es: ', np.round(np.mean(prediccion_sensor1[295:442])))\n",
    "print('La predicción de la cuarta sentadilla es: ', np.round(np.mean(prediccion_sensor1[443:588])))\n",
    "print('La predicción de la quinta sentadilla es: ', np.round(np.mean(prediccion_sensor1[589:744])))"
   ]
  },
  {
   "cell_type": "markdown",
   "id": "d46e64b8-00af-4578-ae9a-1da8150d3d9c",
   "metadata": {},
   "source": [
    "Predicción del sensor 2"
   ]
  },
  {
   "cell_type": "code",
   "execution_count": null,
   "id": "dcb15cff-e43b-4202-944d-b1f11b490cbc",
   "metadata": {
    "tags": []
   },
   "outputs": [],
   "source": [
    "prediccion_sensor2 = clF2.predict(Prueba2)\n",
    "print('La predicción de la primer sentadilla es: ', np.round(np.mean(prediccion_sensor2[0:131])))\n",
    "print('La predicción de la segunda sentadilla es: ', np.round(np.mean(prediccion_sensor2[132:263])))\n",
    "print('La predicción de la tercer sentadilla es: ', np.round(np.mean(prediccion_sensor2[264:395])))\n",
    "print('La predicción de la cuarta sentadilla es: ', np.round(np.mean(prediccion_sensor2[396:527])))\n",
    "print('La predicción de la quinta sentadilla es: ', np.round(np.mean(prediccion_sensor2[528:656])))"
   ]
  },
  {
   "cell_type": "markdown",
   "id": "17ebd9a6-0c43-4053-a7ea-8deee75e5595",
   "metadata": {},
   "source": [
    "Predicción del sensor 3"
   ]
  },
  {
   "cell_type": "code",
   "execution_count": null,
   "id": "6f24f8a0-c634-436e-9e90-611e66b54581",
   "metadata": {},
   "outputs": [],
   "source": [
    "prediccion_sensor3 = clF3.predict(Prueba3)\n",
    "print('La predicción de la primer sentadilla es: ', np.round(np.mean(prediccion_sensor3[0:128])))\n",
    "print('La predicción de la segunda sentadilla es: ', np.round(np.mean(prediccion_sensor3[129:257])))\n",
    "print('La predicción de la tercer sentadilla es: ', np.round(np.mean(prediccion_sensor3[258:386])))\n",
    "print('La predicción de la cuarta sentadilla es: ', np.round(np.mean(prediccion_sensor3[387:515])))\n",
    "print('La predicción de la quinta sentadilla es: ', np.round(np.mean(prediccion_sensor3[516:644])))"
   ]
  },
  {
   "cell_type": "markdown",
   "id": "5573f86f-08f0-4ef4-86c7-d118fa16f52b",
   "metadata": {},
   "source": [
    "Predicción del sensor 4"
   ]
  },
  {
   "cell_type": "code",
   "execution_count": null,
   "id": "9935a654-de43-471e-800a-a709424554dd",
   "metadata": {},
   "outputs": [],
   "source": [
    "prediccion_sensor4 = clF4.predict(Prueba4)\n",
    "print('La predicción de la primer sentadilla es: ', np.round(np.mean(prediccion_sensor4[0:103])))\n",
    "print('La predicción de la segunda sentadilla es: ', np.round(np.mean(prediccion_sensor4[104:207])))\n",
    "print('La predicción de la tercer sentadilla es: ', np.round(np.mean(prediccion_sensor4[208:311])))\n",
    "print('La predicción de la cuarta sentadilla es: ', np.round(np.mean(prediccion_sensor4[312:415])))\n",
    "print('La predicción de la quinta sentadilla es: ', np.round(np.mean(prediccion_sensor4[416:516])))"
   ]
  },
  {
   "cell_type": "markdown",
   "id": "c0c14fa1-87a9-4e72-8ed4-bb865e51ddb7",
   "metadata": {},
   "source": [
    "# **<span style=\"color:#0000FF\">6 Conclusión del Método 1</span>**\n",
    "\n",
    "Si bien realizar una clasificación sobre una persona realizando ejercicio por medio de Machine Learning es relativamente fácil entrenando un modelo para hacer una predicción, existen otros métodos para que podamos conocer como es que las persona realizan los ejercicios. \n",
    "Así los resultados obtenidos por medio de Machine Learning donde el ejercicio realizado de manera correcta se califa de la siguiente manera:\n",
    "\n",
    "* 0 ---> Ejercicio mal realizado \n",
    "* 1 ---> Ejercicio relizando medianamente bien \n",
    "* 2 ---> Ejercicio bien realizado \n",
    "\n",
    "Los resultados obtenidos por medio de las técnicas de clasificación de las 5 repeticiones fueron:\n",
    "\n",
    "|Clasificador | Rep1 | Rep2| Rep3| Rep4| Rep5|\n",
    "|-------------|------|-----|-----|-----|-----|\n",
    "| Sensor 1    |   2  |  2  | 2   |   2 | 1   |\n",
    "| Sensor 2    | 2    | 2   | 1   |  1  | 2   |\n",
    "| Sensor 3    |  2   |  2  |  2  |  1  |  1  |\n",
    "| Sensor 4    |  2   |  2  |  2  |  2  |  2  |\n",
    "\n",
    "Datos estos resultados del archivo de validación.csv podemos observar que no en todos los casos se tuvo la misma predicción, pues a pesar de que para la repetición 1 y 2 los 4 sensores obtuvieron el mismo resultados, no es el mismo caso para la repeticioón 3, 4 y 5, ya que en esas repeteciones los valores fueron distintos, debido a que se parte de la suposición de que los 5 sensores estan colocados en la misma persona, con la misma orientación, entonces existe confusión en la manera de como el modelo reconoce los patrones para poder detecar la calidad de la repeteción.\n",
    "\n",
    "Si bien como se menciono antes, esta es una de las formas en las cuales se puede hacer una predicción existen otras maneras de poder observar como se realizan los ejercicios."
   ]
  },
  {
   "cell_type": "markdown",
   "id": "97f3ca10-8d63-4bc4-bf3a-abb596cb0d0c",
   "metadata": {},
   "source": [
    "# **<span style=\"color:#0000FF\">Análisis por medio de comparación de gráficas</span>**\n",
    "\n",
    "## **<span style=\"color:#0000FF\">Sin Machine Learning</span>**\n",
    "\n",
    "Comenzamos escogiendo uno de los sensores por cada archivo .csv de todos los participantes, este caso comenzamos eligiendo el sensor número 1 y vamos a elegir una de las características obtenidas directamente de los sensores.\n",
    "\n",
    "Para este tipo de análisi se tomaron 4 criterios los cuales evaluaron y puntuaran a los sujetos de prueba, estos criterios son:\n",
    "\n",
    "* Profundidad\n",
    "* Consistencia\n",
    "* Velocidad de descenso\n",
    "* Velocidad de ascenso "
   ]
  },
  {
   "cell_type": "code",
   "execution_count": null,
   "id": "473a0789-e408-49c2-90c1-7c806b06c7ce",
   "metadata": {
    "tags": []
   },
   "outputs": [],
   "source": [
    "# Lista de nombres de archivo\n",
    "nombres_archivos = ['Andres', 'Andrea', 'Ariana', 'Arturo', 'Cristian', 'Juan', 'Leydy', 'Rachel', 'Scarlett']\n",
    "\n",
    "# Diccionario para almacenar los DataFrames\n",
    "archivos = {}\n",
    "\n",
    "# Ciclo para cargar cada archivo CSV en el diccionario\n",
    "for nombre in nombres_archivos:\n",
    "    ruta_archivo = f'Datos/{nombre}.csv'  # Construye la ruta del archivo\n",
    "    archivos[nombre] = pd.read_csv(ruta_archivo)  # Carga el archivo y lo almacena en el diccionario\n"
   ]
  },
  {
   "cell_type": "code",
   "execution_count": null,
   "id": "b470dd9c-86b0-44f4-8f02-5a694fa4f5de",
   "metadata": {
    "tags": []
   },
   "outputs": [],
   "source": [
    "archivo_andres = archivos['Andres']\n",
    "archivo_andrea = archivos['Andrea']\n",
    "archivo_ariana = archivos['Ariana']\n",
    "archivo_arturo = archivos['Arturo']\n",
    "archivo_cristian = archivos['Cristian']\n",
    "archivo_juan = archivos['Juan']\n",
    "archivo_leydy = archivos['Leydy']\n",
    "archivo_rachel = archivos['Rachel']\n",
    "archivo_scarlett = archivos['Scarlett']\n",
    "# Leemos el archivo de testing.csv\n",
    "testing = pd.read_csv('Datos/testing.csv')"
   ]
  },
  {
   "cell_type": "code",
   "execution_count": null,
   "id": "06cf93e6-1e6e-42fd-a008-77bef2613e9a",
   "metadata": {
    "tags": []
   },
   "outputs": [],
   "source": [
    "#Archivo de Esteban\n",
    "archivo_temp1 = testing[testing['SensorId'] == 1]\n",
    "\n",
    "#Archivos de todos los participanetes \n",
    "archivo_temp2 = archivo_andres[archivo_andres['SensorId'] == 1]\n",
    "archivo_temp3 = archivo_andrea[archivo_andrea['SensorId'] == 1]\n",
    "archivo_temp4 = archivo_ariana[archivo_ariana['SensorId'] == 1]\n",
    "archivo_temp5 = archivo_arturo[archivo_arturo['SensorId'] == 1]\n",
    "archivo_temp6 = archivo_cristian[archivo_cristian['SensorId'] == 1]\n",
    "archivo_temp7 = archivo_juan[archivo_juan['SensorId'] == 1]\n",
    "archivo_temp8 = archivo_leydy[archivo_leydy['SensorId'] == 1]\n",
    "archivo_temp9 = archivo_rachel[archivo_rachel['SensorId'] == 1]\n",
    "archivo_temp10 = archivo_scarlett[archivo_scarlett['SensorId'] == 1]"
   ]
  },
  {
   "cell_type": "markdown",
   "id": "8c1d236b-80e9-43a2-8321-ff2b96b48fd0",
   "metadata": {},
   "source": [
    "Extracción del tiempo de la duración del ejercicio, en este caso vamos a elegir la variable de ' TimeStamp (s)' como variable en nuestro tiempo y vamos a elegir ' EulerX (deg)' como característica para comparar las sentadillas"
   ]
  },
  {
   "cell_type": "code",
   "execution_count": null,
   "id": "665762d9-9b23-4dae-b6ba-3fa427cb7bbd",
   "metadata": {},
   "outputs": [],
   "source": [
    "#Extracción de los tiempos de duración para el eje x\n",
    "\n",
    "#Archivo de esteban\n",
    "x1 = archivo_temp1[' TimeStamp (s)']\n",
    "#Archivo de todos los parcipantes\n",
    "x2 = archivo_temp2[' TimeStamp (s)']\n",
    "x3 = archivo_temp3[' TimeStamp (s)']\n",
    "x4 = archivo_temp4[' TimeStamp (s)']\n",
    "x5 = archivo_temp5[' TimeStamp (s)']\n",
    "x6 = archivo_temp6[' TimeStamp (s)']\n",
    "x7 = archivo_temp7[' TimeStamp (s)']\n",
    "x8 = archivo_temp8[' TimeStamp (s)']\n",
    "x9 = archivo_temp9[' TimeStamp (s)']\n",
    "x10 = archivo_temp10[' TimeStamp (s)']"
   ]
  },
  {
   "cell_type": "code",
   "execution_count": null,
   "id": "3f8d1955-783f-4cae-8237-f51fb7c33df7",
   "metadata": {
    "tags": []
   },
   "outputs": [],
   "source": [
    "#Extracción de la característica de los archivos para el eje y\n",
    "#Archivo de esteban\n",
    "y1 = archivo_temp1[' EulerX (deg)']\n",
    "#Archivo de todos los parcipantes\n",
    "y2 = archivo_temp2[' EulerX (deg)']\n",
    "y3 = archivo_temp3[' EulerX (deg)']\n",
    "y4 = archivo_temp4[' EulerX (deg)']\n",
    "y5 = archivo_temp5[' EulerX (deg)']\n",
    "y6 = archivo_temp6[' EulerX (deg)']\n",
    "y7 = archivo_temp7[' EulerX (deg)']\n",
    "y8 = archivo_temp8[' EulerX (deg)']\n",
    "y9 = archivo_temp9[' EulerX (deg)']\n",
    "y10 = archivo_temp10[' EulerX (deg)']"
   ]
  },
  {
   "cell_type": "markdown",
   "id": "4fac5ca8-f5d6-4289-949c-d8fb46a1ecde",
   "metadata": {},
   "source": [
    "#### <span style=\"color:red\">Andres vs Esteban</span> "
   ]
  },
  {
   "cell_type": "code",
   "execution_count": null,
   "id": "be352ee8-cd57-4c0b-b288-b54aac869315",
   "metadata": {
    "tags": []
   },
   "outputs": [],
   "source": [
    "# Convertir a numpy array si x2 y y2 son series de pandas\n",
    "if isinstance(x2, pd.Series):\n",
    "    x2 = x2.to_numpy()\n",
    "if isinstance(y2, pd.Series):\n",
    "    y2 = y2.to_numpy()\n",
    "\n",
    "# Ajustes iniciales\n",
    "x2_ajustado = x2[200:] - x2[200]  \n",
    "y2_ajustado = y2[200:] - y2[200] \n",
    "\n",
    "fig, ax1 = plt.subplots(figsize=(9, 5))\n",
    "\n",
    "# Esteban\n",
    "color = 'tab:red'\n",
    "ax1.set_xlabel('Time Stamp (s)')\n",
    "ax1.set_ylabel('EulerX (deg) - Esteban', color=color)\n",
    "ax1.plot(x1, y1, color=color, label = 'Esteban')\n",
    "ax1.tick_params(axis='y', labelcolor=color)\n",
    "\n",
    "\n",
    "# Andres\n",
    "ax2 = ax1.twinx()  \n",
    "color = 'tab:blue'\n",
    "ax2.set_ylabel('EulerX (deg) - Andres', color=color)\n",
    "ax2.plot(x2_ajustado, y2_ajustado, color=color, label = 'Andres')\n",
    "ax2.tick_params(axis='y', labelcolor=color)\n",
    "\n",
    "#Para la leyenda de Esteban\n",
    "ax1.legend(loc='upper left') \n",
    "# Para la leyenda de Andrés\n",
    "ax2.legend(loc='upper right') \n",
    "\n",
    "fig.tight_layout()  \n",
    "plt.title('Comparación de Sentadillas: Esteban vs. Andres')\n",
    "plt.grid(True)\n",
    "plt.show()"
   ]
  },
  {
   "cell_type": "markdown",
   "id": "171f875d-3013-424d-9426-7e93b9215fdd",
   "metadata": {},
   "source": [
    "* Profundidad\n",
    "\n",
    "Esteban: La línea azul (Esteban) muestra que las profundidades de sus sentadillas son bastante uniformes, rondando siempre cerca o un poco por debajo de los -90 grados.\n",
    "\n",
    "Andrés: La línea roja (Andrés), en cambio, parece tener ligeras variaciones en la profundidad, con algunas sentadillas no tan profundas como otras, pero en general todas por encima de -60 grados.\n",
    "\n",
    "* Consistencia\n",
    "\n",
    "Esteban: Presenta una alta consistencia, ya que cada pico hacia abajo (cada sentadilla) es muy similar al anterior.\n",
    " \n",
    "Andrés: Tiene menos consistencia en comparación con Esteban, las curvas de ascenso y descenso varían más entre las repeticiones.\n",
    "\n",
    "* Velocidad de Descenso\n",
    "\n",
    "Esteban: La línea azul muestra descensos muy uniformes y con una pendiente pronunciada, lo que indica un descenso rápido.\n",
    "\n",
    "Andrés: La línea roja muestra descensos menos pronunciados, lo que sugiere que Andrés baja más lentamente en comparación con Esteban.\n",
    "\n",
    "* Velocidad de Ascenso\n",
    "\n",
    "Esteban: La curva azul muestra ascensos rápidos y consistentes, similares en cada repetición.\n",
    "\n",
    "Andrés: La curva roja, al igual que en los descensos, muestra ascensos más graduales que Esteban, indicando una velocidad de ascenso más lenta.\n",
    "\n",
    "Por lo que la calificación que le ponemos al sujeto de Andres en este caso es de\n",
    "\n",
    "##### **2**"
   ]
  },
  {
   "cell_type": "markdown",
   "id": "541e703e-2798-419d-82f2-71e1b44d3087",
   "metadata": {},
   "source": [
    "#### <span style=\"color:red\">Andrea vs Esteban</span> "
   ]
  },
  {
   "cell_type": "code",
   "execution_count": null,
   "id": "0d9276e0-dace-4f4b-8b6f-82253fbcaa48",
   "metadata": {
    "tags": []
   },
   "outputs": [],
   "source": [
    "\n",
    "# Convertir a numpy array si x2 y y2 son series de pandas\n",
    "if isinstance(x3, pd.Series):\n",
    "    x3 = x3.to_numpy()\n",
    "if isinstance(y3, pd.Series):\n",
    "    y3 = y3.to_numpy()\n",
    "\n",
    "# Ajustes iniciales\n",
    "x3_ajustado = x3[250:] - x3[250]  \n",
    "y3_ajustado = y3[250:] - y3[250] \n",
    "\n",
    "fig, ax1 = plt.subplots(figsize=(9, 5))\n",
    "\n",
    "# Esteban\n",
    "color = 'tab:red'\n",
    "ax1.set_xlabel('Time Stamp (s)')\n",
    "ax1.set_ylabel('EulerX (deg) - Esteban', color=color)\n",
    "ax1.plot(x1, y1, color=color, label = 'Esteban')\n",
    "ax1.tick_params(axis='y', labelcolor=color)\n",
    "\n",
    "\n",
    "# Andrea\n",
    "ax2 = ax1.twinx()  \n",
    "color = 'tab:blue'\n",
    "ax2.set_ylabel('EulerX (deg) - Andrea', color=color)\n",
    "ax2.plot(x3_ajustado, y3_ajustado, color=color, label = 'Andrea')\n",
    "ax2.tick_params(axis='y', labelcolor=color)\n",
    "\n",
    "#Para la leyenda de Esteban\n",
    "ax1.legend(loc='upper left') \n",
    "# Para la leyenda de Andrea\n",
    "ax2.legend(loc='upper right') \n",
    "\n",
    "fig.tight_layout()  \n",
    "plt.title('Comparación de Sentadillas: Esteban vs. Andrea')\n",
    "plt.grid(True)\n",
    "plt.show()"
   ]
  },
  {
   "cell_type": "markdown",
   "id": "38226af3-be21-4a72-bbea-7b46d4666f29",
   "metadata": {
    "tags": []
   },
   "source": [
    "* Profundidad\n",
    "\n",
    "Esteban: Representado por la curva azul, parece alcanzar una profundidad muy similar en cada repetición, llegando casi a los -100 grados.\n",
    "\n",
    "Andrea: Indicado por la curva roja, también alcanza profundidades consistentes, aunque no tan profundas como Esteban, llegando a alrededor de -90 grados.\n",
    "\n",
    "* Consistencia\n",
    "\n",
    "Esteban: Las repeticiones de Esteban son muy consistentes, con poca variación en la profundidad y el patrón de movimiento.\n",
    "\n",
    "Andra: Andrea también muestra consistencia en sus repeticiones, aunque la amplitud de su movimiento es menor que la de Esteban.\n",
    "\n",
    "* Velocidad de Descenso\n",
    "\n",
    "Esteban: La curva de Esteban muestra descensos rápidos, lo que indica una velocidad de descenso alta.\n",
    "\n",
    "Andrea: Andrés tiene un descenso más suave y menos pronunciado, lo que sugiere una velocidad de descenso más lenta que Esteban.\n",
    "\n",
    "* Velocidad de Ascenso\n",
    "\n",
    "Esteban: La velocidad de ascenso de Esteban es rápida, como se ve por la pendiente empinada de la curva azul volviendo hacia la línea de base.\n",
    "\n",
    "Andrea: La curva roja de Andrea sube de manera más gradual que la de Esteban, lo que indica una velocidad de ascenso más lenta.\n",
    "\n",
    "Por lo que la calificación que le ponemos al sujeto de Andrea en este caso es de:\n",
    "\n",
    "##### **2**"
   ]
  },
  {
   "cell_type": "markdown",
   "id": "bea9b929-d0ee-4105-a050-2118d93ad84b",
   "metadata": {},
   "source": [
    "#### <span style=\"color:red\">Ariana vs Esteban</span>"
   ]
  },
  {
   "cell_type": "code",
   "execution_count": null,
   "id": "78e8758a-cc64-4f09-94e6-f7660656d668",
   "metadata": {
    "tags": []
   },
   "outputs": [],
   "source": [
    "\n",
    "# Convertir a numpy array si x2 y y2 son series de pandas\n",
    "if isinstance(x4, pd.Series):\n",
    "    x4 = x4.to_numpy()\n",
    "if isinstance(y4, pd.Series):\n",
    "    y4 = y4.to_numpy()\n",
    "\n",
    "# Ajustes iniciales\n",
    "x4_ajustado = x4[210:] - x4[210]  \n",
    "y4_ajustado = y4[210:] - y4[210] \n",
    "\n",
    "fig, ax1 = plt.subplots(figsize=(9, 5))\n",
    "\n",
    "# Esteban\n",
    "color = 'tab:red'\n",
    "ax1.set_xlabel('Time Stamp (s)')\n",
    "ax1.set_ylabel('EulerX (deg) - Esteban', color=color)\n",
    "ax1.plot(x1, y1, color=color, label = 'Esteban')\n",
    "ax1.tick_params(axis='y', labelcolor=color)\n",
    "\n",
    "\n",
    "# Ariana\n",
    "ax2 = ax1.twinx()  \n",
    "color = 'tab:blue'\n",
    "ax2.set_ylabel('EulerX (deg) - Ariana', color=color)\n",
    "ax2.plot(x4_ajustado, y4_ajustado, color=color, label = 'Ariana')\n",
    "ax2.tick_params(axis='y', labelcolor=color)\n",
    "\n",
    "ax2.axvline(x=5.6, color='black', label='Inicio', linestyle='--')\n",
    "ax2.axvline(x=8.6, color='black', label='Fin', linestyle='dotted')\n",
    "\n",
    "#Para la leyenda de Esteban\n",
    "ax1.legend(loc='upper left') \n",
    "# Para la leyenda de Ariana\n",
    "ax2.legend(loc='upper right') \n",
    "\n",
    "fig.tight_layout()  \n",
    "plt.title('Comparación de Sentadillas: Esteban vs. Ariana')\n",
    "plt.grid(True)\n",
    "plt.show()"
   ]
  },
  {
   "cell_type": "markdown",
   "id": "7a952b55-043a-4445-98ff-a67339985254",
   "metadata": {},
   "source": [
    "* Profundidad\n",
    "\n",
    "Esteban: La línea azul muestra que Esteban realiza sentadillas con una profundidad considerable, bajando casi hasta los -90 grados en cada repetición.\n",
    "\n",
    "Ariana: La línea roja indica que Ariana tiene una profundidad similar a la de Esteban, también acercándose a los -90 grados. Ambos sujetos muestran una buena amplitud en sus ejercicios.\n",
    "\n",
    "* Consistencia\n",
    "\n",
    "Esteban: Esteban mantiene una alta consistencia en sus movimientos, con cada sentadilla reflejando una curva similar en profundidad y forma.\n",
    "\n",
    "Ariana: Ariana también muestra un alto grado de consistencia, con sus repeticiones manteniendo un patrón muy parecido al de Esteban.\n",
    "\n",
    "* Velocidad de Descenso\n",
    "\n",
    "Esteban: Esteban desciende rápidamente, como se puede ver por las pendientes pronunciadas en cada curva hacia abajo.\n",
    "\n",
    "Ariana: Ariana también tiene un descenso rápido, con una pendiente similar a la de Esteban, lo que sugiere que su velocidad de descenso es comparable.\n",
    "\n",
    "* Velocidad de Ascenso\n",
    "\n",
    "Esteban: La rapidez con la que Esteban sube después de alcanzar la profundidad máxima es alta, indicada por la rápida transición de la curva hacia la posición inicial.\n",
    "\n",
    "Ariana: Ariana parece ascender tan rápido como Esteban, con pendientes de ascenso prácticamente iguales a las de Esteban.\n",
    "\n",
    "Por lo que la calificación que le ponemos al sujeto de Ariana en este caso es de:\n",
    "\n",
    "##### **1**"
   ]
  },
  {
   "cell_type": "markdown",
   "id": "d491a0c4-64b0-4d8c-8436-3da261bf6821",
   "metadata": {},
   "source": [
    "#### <span style=\"color:red\">Arturo vs Esteban</span>"
   ]
  },
  {
   "cell_type": "code",
   "execution_count": null,
   "id": "1ac4bdae-c795-4fa0-ac48-9584b03b2090",
   "metadata": {
    "tags": []
   },
   "outputs": [],
   "source": [
    "\n",
    "# Convertir a numpy array si x2 y y2 son series de pandas\n",
    "if isinstance(x5, pd.Series):\n",
    "    x5 = x5.to_numpy()\n",
    "if isinstance(y5, pd.Series):\n",
    "    y5 = y5.to_numpy()\n",
    "\n",
    "# Ajustes iniciales\n",
    "x5_ajustado = x5[200:] - x5[200]  \n",
    "y5_ajustado = y5[200:] - y5[200] \n",
    "\n",
    "fig, ax1 = plt.subplots(figsize=(9, 5))\n",
    "\n",
    "# Esteban\n",
    "color = 'tab:red'\n",
    "ax1.set_xlabel('Time Stamp (s)')\n",
    "ax1.set_ylabel('EulerX (deg) - Esteban', color=color)\n",
    "ax1.plot(x1, y1, color=color, label = 'Esteban')\n",
    "ax1.tick_params(axis='y', labelcolor=color)\n",
    "\n",
    "\n",
    "# Arturo\n",
    "ax2 = ax1.twinx()  \n",
    "color = 'tab:blue'\n",
    "ax2.set_ylabel('EulerX (deg) - Arturo', color=color)\n",
    "ax2.plot(x5, y5, color=color, label = 'Arturo')\n",
    "ax2.tick_params(axis='y', labelcolor=color)\n",
    "\n",
    "#Para la leyenda de Esteban\n",
    "ax1.legend(loc='upper left') \n",
    "# Para la leyenda de Arturo\n",
    "ax2.legend(loc='upper right') \n",
    "\n",
    "fig.tight_layout()  \n",
    "plt.title('Comparación de Sentadillas: Esteban vs. Arturo')\n",
    "plt.grid(True)\n",
    "plt.show()"
   ]
  },
  {
   "cell_type": "markdown",
   "id": "9dc83c29-24ad-42c3-9a21-45e831ddf20c",
   "metadata": {},
   "source": [
    "Debido a que esta gráfica es evaluada de que el sensor no tomo los datos de una manera correcta no tenemos nada que decir al respecto. \n",
    "\n",
    "Por lo que la calificación que le ponemos al sujeto de Arturo en este caso es de:\n",
    "\n",
    "##### **---**"
   ]
  },
  {
   "cell_type": "markdown",
   "id": "b5a27352-42db-495e-ab0a-204353a91f0f",
   "metadata": {},
   "source": [
    "#### <span style=\"color:red\">Critian vs Esteban</span>"
   ]
  },
  {
   "cell_type": "code",
   "execution_count": null,
   "id": "011a5d01-81f4-44f1-8f78-c786eb8fa7ed",
   "metadata": {
    "tags": []
   },
   "outputs": [],
   "source": [
    "\n",
    "# Convertir a numpy array si x2 y y2 son series de pandas\n",
    "if isinstance(x6, pd.Series):\n",
    "    x6 = x6.to_numpy()\n",
    "if isinstance(y6, pd.Series):\n",
    "    y6 = y6.to_numpy()\n",
    "\n",
    "# Ajustes iniciales\n",
    "x6_ajustado = x6[250:] - x6[250]  \n",
    "y6_ajustado = y6[250:] - y6[250] \n",
    "\n",
    "fig, ax1 = plt.subplots(figsize=(9, 5))\n",
    "\n",
    "# Esteban\n",
    "color = 'tab:red'\n",
    "ax1.set_xlabel('Time Stamp (s)')\n",
    "ax1.set_ylabel('EulerX (deg) - Esteban', color=color)\n",
    "ax1.plot(x1, y1, color=color, label = 'Esteban')\n",
    "ax1.tick_params(axis='y', labelcolor=color)\n",
    "\n",
    "\n",
    "# Cristian\n",
    "ax2 = ax1.twinx()  \n",
    "color = 'tab:blue'\n",
    "ax2.set_ylabel('EulerX (deg) - Cristian', color=color)\n",
    "ax2.plot(x6_ajustado, y6_ajustado, color=color, label = 'Cristian')\n",
    "ax2.tick_params(axis='y', labelcolor=color)\n",
    "\n",
    "\n",
    "#Para la leyenda de Esteban\n",
    "ax1.legend(loc='upper left') \n",
    "# Para la leyenda de Cristian\n",
    "ax2.legend(loc='upper right') \n",
    "\n",
    "fig.tight_layout()  \n",
    "plt.title('Comparación de Sentadillas: Esteban vs. Cristian ')\n",
    "plt.grid(True)\n",
    "plt.show()"
   ]
  },
  {
   "cell_type": "markdown",
   "id": "fb0be5cc-0f15-45ac-83ae-39e95ba6a7ee",
   "metadata": {},
   "source": [
    "* Profundidad\n",
    "\n",
    "Esteban: La curva de Esteban muestra una profundidad de sentadilla que alcanza casi los -90 grados, lo cual es indicativo de una sentadilla completa o \"profunda\".\n",
    "\n",
    "Cristian: La curva de Cristian también muestra que alcanza profundidades similares a las de Esteban, aunque no todas sus repeticiones son tan profundas como las primeras.\n",
    "\n",
    "* Consistencia\n",
    "\n",
    "Esteban: La consistencia en las repeticiones de Esteban es notable, aunque hay una leve variabilidad en la profundidad y en la forma de la curva.\n",
    "\n",
    "Cristian: Cristian empieza con repeticiones bastante consistentes, pero hay una disminución notoria en la profundidad hacia el final de su serie, lo que indica fatiga o pérdida de técnica.\n",
    "\n",
    "* Velocidad de Descenso\n",
    "\n",
    "Esteban: La velocidad de descenso de Esteban parece ser rápida y bastante constante en la mayoría de las repeticiones, aunque hay algunas variaciones.\n",
    "\n",
    "Cristian: La velocidad de descenso de Cristian es similar a la de Esteban, con una rápida transición de la posición de pie a la sentadilla profunda.\n",
    "\n",
    "* Velocidad de Ascenso\n",
    "\n",
    "Esteban: La velocidad de ascenso varía, pero en general es rápida, lo que indica un buen impulso desde la parte baja de la sentadilla.\n",
    "\n",
    "Cristian: Al principio, Cristian tiene una velocidad de ascenso comparable a la de Esteban, pero parece reducir la velocidad al final de su serie, lo que puede ser un signo de fatiga.\n",
    "\n",
    "Por lo que la calificación que le ponemos al sujeto de Cristian en este caso es de:\n",
    "\n",
    "##### **2**"
   ]
  },
  {
   "cell_type": "markdown",
   "id": "86c9e98f-068b-4aa7-9361-bd977e241cff",
   "metadata": {},
   "source": [
    "#### <span style=\"color:red\">Juan vs Esteban</span>"
   ]
  },
  {
   "cell_type": "code",
   "execution_count": null,
   "id": "24127303-1046-4410-a2af-df52aec86079",
   "metadata": {
    "tags": []
   },
   "outputs": [],
   "source": [
    "# Convertir a numpy array si x2 y y2 son series de pandas\n",
    "if isinstance(x7, pd.Series):\n",
    "    x7 = x7.to_numpy()\n",
    "if isinstance(y7, pd.Series):\n",
    "    y7 = y7.to_numpy()\n",
    "\n",
    "# Ajustes iniciales\n",
    "x7_ajustado = x7[200:] - x7[200]  \n",
    "y7_ajustado = y7[200:] - y7[200] \n",
    "\n",
    "fig, ax1 = plt.subplots(figsize=(9, 5))\n",
    "\n",
    "# Esteban\n",
    "color = 'tab:red'\n",
    "ax1.set_xlabel('Time Stamp (s)')\n",
    "ax1.set_ylabel('EulerX (deg) - Esteban', color=color)\n",
    "ax1.plot(x1, y1, color=color, label = 'Esteban')\n",
    "ax1.tick_params(axis='y', labelcolor=color)\n",
    "\n",
    "\n",
    "# Andres\n",
    "ax2 = ax1.twinx()  \n",
    "color = 'tab:blue'\n",
    "ax2.set_ylabel('EulerX (deg) - Juan', color=color)\n",
    "ax2.plot(x7_ajustado, y7_ajustado, color=color, label = 'Juan')\n",
    "ax2.tick_params(axis='y', labelcolor=color)\n",
    "\n",
    "#Para la leyenda de Esteban\n",
    "ax1.legend(loc='upper left') \n",
    "# Para la leyenda de Juan\n",
    "ax2.legend(loc='upper right') \n",
    "\n",
    "fig.tight_layout()  \n",
    "plt.title('Comparación de Sentadillas: Esteban vs. Juan')\n",
    "plt.grid(True)\n",
    "plt.show()"
   ]
  },
  {
   "cell_type": "markdown",
   "id": "d73e8f5f-20cb-479b-be7d-0bc40c1548f9",
   "metadata": {},
   "source": [
    "* Profundidad\n",
    "\n",
    "Esteban: Las sentadillas de Esteban muestran una profundidad que consistentemente alcanza cerca de los -90 grados, lo que indica una sentadilla muy profunda.\n",
    "\n",
    "Juan: Las sentadillas de Juan también alcanzan una profundidad considerable, aunque no son tan profundas como las de Esteban, y su profundidad disminuye ligeramente con el tiempo, lo que puede ser indicativo de fatiga.\n",
    "\n",
    "* Consistencia\n",
    "\n",
    "Esteban: Las repeticiones de Esteban son muy consistentes en cuanto a la forma y la profundidad, lo que sugiere una técnica sólida y un buen control muscular.\n",
    "\n",
    "Juan: Juan comienza con repeticiones consistentes, pero su forma varía más que la de Esteban, especialmente hacia el final de la serie.\n",
    "\n",
    "* Velocidad de Descenso\n",
    "\n",
    "Esteban: Tiene una velocidad de descenso constante y controlada en cada repetición.\n",
    "\n",
    "Juan: También tiene una velocidad de descenso consistente al principio, pero parece que se ralentiza ligeramente en las últimas repeticiones.\n",
    "\n",
    "* Velocidad de Ascenso\n",
    "\n",
    "Esteban: Muestra una velocidad de ascenso rápida y constante, lo que indica una buena fuerza y capacidad de recuperación.\n",
    "\n",
    "Juan: Al igual que en el descenso, disminuye la velocidad de ascenso al final de su serie, lo que puede ser una señal de fatiga muscular o pérdida de energía.\n",
    "\n",
    "Por lo que la calificación que le ponemos al sujeto de Juan en este caso es de:\n",
    "\n",
    "##### **1**"
   ]
  },
  {
   "cell_type": "markdown",
   "id": "4baff0bd-57cd-4767-94fc-76ea23c1cf0a",
   "metadata": {},
   "source": [
    "#### <span style=\"color:red\">Leydy vs Esteban</span>"
   ]
  },
  {
   "cell_type": "code",
   "execution_count": null,
   "id": "43af14d4-bb7e-4b31-9e04-9e05d46d7919",
   "metadata": {
    "tags": []
   },
   "outputs": [],
   "source": [
    "# Convertir a numpy array si x2 y y2 son series de pandas\n",
    "if isinstance(x8, pd.Series):\n",
    "    x8 = x8.to_numpy()\n",
    "if isinstance(y8, pd.Series):\n",
    "    y8 = y8.to_numpy()\n",
    "\n",
    "# Ajustes iniciales\n",
    "x8_ajustado = x8[200:] - x8[200]  \n",
    "y8_ajustado = y8[200:] - y8[200] \n",
    "\n",
    "fig, ax1 = plt.subplots(figsize=(9, 5))\n",
    "\n",
    "# Esteban\n",
    "color = 'tab:red'\n",
    "ax1.set_xlabel('Time Stamp (s)')\n",
    "ax1.set_ylabel('EulerX (deg) - Esteban', color=color)\n",
    "ax1.plot(x1, y1, color=color, label = 'Esteban')\n",
    "ax1.tick_params(axis='y', labelcolor=color)\n",
    "\n",
    "\n",
    "# Leydy\n",
    "ax2 = ax1.twinx()  \n",
    "color = 'tab:blue'\n",
    "ax2.set_ylabel('EulerX (deg) - Leydy', color=color)\n",
    "ax2.plot(x8_ajustado, y8_ajustado, color=color, label = 'Leydy')\n",
    "ax2.tick_params(axis='y', labelcolor=color)\n",
    "\n",
    "\n",
    "#Para la leyenda de Esteban\n",
    "ax1.legend(loc='upper left') \n",
    "# Para la leyenda de Leydy\n",
    "ax2.legend(loc='upper right') \n",
    "\n",
    "fig.tight_layout()  \n",
    "plt.title('Comparación de Sentadillas: Esteban vs. Leydy')\n",
    "plt.grid(True)\n",
    "plt.show()"
   ]
  },
  {
   "cell_type": "markdown",
   "id": "a7610fe5-446d-4eec-a441-1e985408c1ac",
   "metadata": {},
   "source": [
    "* Profundidad\n",
    "\n",
    "Esteban: Las sentadillas de Esteban presentan una profundidad que alcanza consistentemente cerca de los -90 grados, lo que indica una sentadilla completa y profunda.\n",
    "\n",
    "Leydy: Las sentadillas de Leydy, en cambio, no alcanzan la misma profundidad que las de Esteban, con algunas variaciones en la profundidad a lo largo de la serie.\n",
    "\n",
    "* Consistencia\n",
    "\n",
    "Esteban: Exhibe una técnica muy consistente, con repeticiones que muestran muy poca variación en la profundidad y forma.\n",
    "\n",
    "Leydy: Aunque la consistencia de Leydy es razonable, hay una variabilidad más notable en su forma, especialmente en la mitad de la serie donde la profundidad disminuye.\n",
    "\n",
    "* Velocidad de Descenso\n",
    "\n",
    "Esteban: Mantiene una velocidad de descenso constante y controlada durante todas sus repeticiones.\n",
    "\n",
    "Leydy: Su velocidad de descenso es menos uniforme que la de Esteban, con algunas repeticiones realizadas más rápidamente que otras.\n",
    "\n",
    "* Velocidad de Ascenso\n",
    "\n",
    "Esteban: Posee una velocidad de ascenso rápida y regular, lo que sugiere una buena fuerza y capacidad de recuperación.\n",
    "\n",
    "Leydy: La velocidad de ascenso varía más que la de Esteban, y parece haber una disminución en la velocidad hacia el final de la serie, lo que podría indicar fatiga.\n",
    "\n",
    "Por lo que la calificación que le ponemos al sujeto de Leydy en este caso es de:\n",
    "\n",
    "##### **2**"
   ]
  },
  {
   "cell_type": "markdown",
   "id": "771991aa-5444-4a96-947e-26a767f15ce7",
   "metadata": {},
   "source": [
    "#### <span style=\"color:red\">Rachel vs Esteban</span>"
   ]
  },
  {
   "cell_type": "code",
   "execution_count": null,
   "id": "49eb10d8-aabb-489f-a3f5-06331097ead2",
   "metadata": {
    "tags": []
   },
   "outputs": [],
   "source": [
    "# Convertir a numpy array si x2 y y2 son series de pandas\n",
    "if isinstance(x9, pd.Series):\n",
    "    x9 = x9.to_numpy()\n",
    "if isinstance(y9, pd.Series):\n",
    "    y9 = y9.to_numpy()\n",
    "\n",
    "# Ajustes iniciales\n",
    "x9_ajustado = x9[200:] - x9[200]  \n",
    "y9_ajustado = y9[200:] - y9[200] \n",
    "\n",
    "fig, ax1 = plt.subplots(figsize=(9, 5))\n",
    "\n",
    "# Esteban\n",
    "color = 'tab:red'\n",
    "ax1.set_xlabel('Time Stamp (s)')\n",
    "ax1.set_ylabel('EulerX (deg) - Esteban', color=color)\n",
    "ax1.plot(x1, y1, color=color, label = 'Esteban')\n",
    "ax1.tick_params(axis='y', labelcolor=color)\n",
    "\n",
    "\n",
    "# Rachel\n",
    "ax2 = ax1.twinx()  \n",
    "color = 'tab:blue'\n",
    "ax2.set_ylabel('EulerX (deg) - Rachel', color=color)\n",
    "ax2.plot(x9_ajustado, y9_ajustado, color=color, label = 'Rachel')\n",
    "ax2.tick_params(axis='y', labelcolor=color)\n",
    "\n",
    "\n",
    "#Para la leyenda de Esteban\n",
    "ax1.legend(loc='upper left') \n",
    "# Para la leyenda de Rachel\n",
    "ax2.legend(loc='upper right') \n",
    "\n",
    "fig.tight_layout()  \n",
    "plt.title('Comparación de Sentadillas: Esteban vs. Rachel')\n",
    "plt.grid(True)\n",
    "plt.show()"
   ]
  },
  {
   "cell_type": "markdown",
   "id": "cb499d96-add1-4249-9ab6-8808745838ab",
   "metadata": {},
   "source": [
    "* Profundidad\n",
    "\n",
    "Esteban: Muestra una profundidad constante en sus sentadillas, alcanzando valores cercanos a los -90 grados, lo que sugiere que está realizando sentadillas profundas y \n",
    "completas.\n",
    "\n",
    "Rachel: Por otro lado, parece no bajar tanto como Esteban en sus sentadillas, con la mayoría de las repeticiones marcando por encima de los -20 grados.\n",
    "\n",
    "* Consistencia\n",
    "\n",
    "Esteban: Exhibe una alta consistencia en la profundidad de sus repeticiones, lo que indica una técnica estable y controlada.\n",
    "\n",
    "Rachel: Tiene un rango más amplio de movimiento en sus repeticiones, lo que podría indicar una menor consistencia en la técnica o variabilidad en la profundidad alcanzada.\n",
    "\n",
    "* Velocidad de Descenso\n",
    "\n",
    "Esteban: Su velocidad de descenso es bastante uniforme, lo que muestra control y resistencia muscular.\n",
    "\n",
    "Rachel: La velocidad de descenso de Rachel varía más, y algunas repeticiones parecen ser más rápidas que otras.\n",
    "\n",
    "* Velocidad de Ascenso\n",
    "\n",
    "Esteban: Mantiene una velocidad de ascenso uniforme, lo cual es deseable para el desarrollo muscular y la fuerza.\n",
    "\n",
    "Rachel: La velocidad de ascenso es menos consistente, lo que puede ser un indicador de fatiga o falta de fuerza.\n",
    "\n",
    "Por lo que la calificación que le ponemos al sujeto de Rachel en este caso es de:\n",
    "\n",
    "##### **1**\n"
   ]
  },
  {
   "cell_type": "markdown",
   "id": "f02be624-2902-4920-b0bf-1fc65e8598db",
   "metadata": {},
   "source": [
    "#### <span style=\"color:red\">Scarlett vs Esteban</span>"
   ]
  },
  {
   "cell_type": "code",
   "execution_count": null,
   "id": "35a0f884-0433-4aad-88c7-b5c90a41ac0a",
   "metadata": {
    "tags": []
   },
   "outputs": [],
   "source": [
    "# Convertir a numpy array si x2 y y2 son series de pandas\n",
    "if isinstance(x10, pd.Series):\n",
    "    x10 = x10.to_numpy()\n",
    "if isinstance(y2, pd.Series):\n",
    "    y10 = y10.to_numpy()\n",
    "\n",
    "# Ajustes iniciales\n",
    "x10_ajustado = x10[200:] - x10[200]  \n",
    "y10_ajustado = y10[200:] - y10[200] \n",
    "\n",
    "fig, ax1 = plt.subplots(figsize=(9, 5))\n",
    "\n",
    "# Esteban\n",
    "color = 'tab:red'\n",
    "ax1.set_xlabel('Time Stamp (s)')\n",
    "ax1.set_ylabel('EulerX (deg) - Esteban', color=color)\n",
    "ax1.plot(x1, y1, color=color, label = 'Esteban')\n",
    "ax1.tick_params(axis='y', labelcolor=color)\n",
    "\n",
    "\n",
    "# Scarlett\n",
    "ax2 = ax1.twinx()  \n",
    "color = 'tab:blue'\n",
    "ax2.set_ylabel('EulerX (deg) - Scarlett', color=color)\n",
    "ax2.plot(x10_ajustado, y10_ajustado, color=color, label = 'Scarlett')\n",
    "ax2.tick_params(axis='y', labelcolor=color)\n",
    "\n",
    "#Para la leyenda de Esteban\n",
    "ax1.legend(loc='upper left') \n",
    "# Para la leyenda de Andrés\n",
    "ax2.legend(loc='upper right') \n",
    "\n",
    "fig.tight_layout()  \n",
    "plt.title('Comparación de Sentadillas: Esteban vs. Scarlett')\n",
    "plt.grid(True)\n",
    "plt.show()"
   ]
  },
  {
   "cell_type": "markdown",
   "id": "c17ce0f3-3b70-4340-8aa4-538930de9dfb",
   "metadata": {},
   "source": [
    "* Profundidad:\n",
    "\n",
    "Esteban alcanza una mayor profundidad en sus sentadillas, con valores cercanos a -80 grados, lo que indica una sentadilla más completa o profunda.\n",
    "\n",
    "Scarlett, por otro lado, muestra valores que apenas superan los -10 grados, lo cual sugiere que sus sentadillas son mucho menos profundas que las de Esteban.\n",
    "\n",
    "* Consistencia:\n",
    "\n",
    "Esteban muestra una consistencia notable en la amplitud de sus movimientos.\n",
    "\n",
    "Scarlett presenta una menor consistencia en sus movimientos, con variaciones notables en la amplitud y frecuencia que podrían indicar una técnica menos refinada o dificultades para mantener un patrón estable.\n",
    "\n",
    "* Velocidad de Descenso:\n",
    "\n",
    "La velocidad de descenso de Scarlett es difícil de determinar con precisión debido a la menor profundidad y las variaciones en su curva; sin embargo, parece haber una mezcla de descensos rápidos y lentos.\n",
    "\n",
    "* Velocidad de Ascenso:\n",
    "\n",
    "Scarlett parece tener una velocidad de ascenso más variable, con algunos ascensos rápidos y otros más graduales.\n",
    "\n",
    "Por lo que la calificación que le ponemos al sujeto de Scarlett en este caso es de:\n",
    "\n",
    "##### **0**"
   ]
  },
  {
   "cell_type": "markdown",
   "id": "53dc0f77-4d51-4900-946d-58ecb63c3e85",
   "metadata": {},
   "source": [
    "### **<span style=\"color:orange\">Validación externa con respecto a un archivo nuevo</span>**"
   ]
  },
  {
   "cell_type": "code",
   "execution_count": null,
   "id": "78cc8437-dda7-4619-b4e3-58be0befae05",
   "metadata": {
    "tags": []
   },
   "outputs": [],
   "source": [
    "df_nuevo = pd.read_csv('Datos/validacion.csv')\n",
    "archivo_temp11 = df_nuevo[df_nuevo['SensorId'] == 1]\n",
    "x11 = archivo_temp11[' TimeStamp (s)']\n",
    "y11 = archivo_temp11[' EulerX (deg)']"
   ]
  },
  {
   "cell_type": "code",
   "execution_count": null,
   "id": "f6e72f28-58aa-4f5d-9a32-9589b623612d",
   "metadata": {
    "tags": []
   },
   "outputs": [],
   "source": [
    "# Convertir a numpy array si x2 y y2 son series de pandas\n",
    "if isinstance(x11, pd.Series):\n",
    "    x11 = x11.to_numpy()\n",
    "if isinstance(y11, pd.Series):\n",
    "    y11 = y11.to_numpy()\n",
    "\n",
    "# Ajustes iniciales\n",
    "x11_ajustado = x11[200:] - x11[200]  \n",
    "y11_ajustado = y11[200:] - y11[200] \n",
    "\n",
    "fig, ax1 = plt.subplots(figsize=(9, 5))\n",
    "\n",
    "# Esteban\n",
    "color = 'tab:red'\n",
    "ax1.set_xlabel('Time Stamp (s)')\n",
    "ax1.set_ylabel('EulerX (deg) - Esteban', color=color)\n",
    "ax1.plot(x1, y1, color=color, label = 'Esteban')\n",
    "ax1.tick_params(axis='y', labelcolor=color)\n",
    "\n",
    "\n",
    "# Validación\n",
    "ax2 = ax1.twinx()  \n",
    "color = 'tab:blue'\n",
    "ax2.set_ylabel('EulerX (deg) - Validación', color=color)\n",
    "ax2.plot(x11_ajustado, y11_ajustado, color=color, label = 'Validación')\n",
    "ax2.tick_params(axis='y', labelcolor=color)\n",
    "\n",
    "#Para la leyenda de Esteban\n",
    "ax1.legend(loc='upper left') \n",
    "# Para la leyenda de Validación\n",
    "ax2.legend(loc='upper right') \n",
    "\n",
    "fig.tight_layout()  \n",
    "plt.title('Comparación de Sentadillas: Esteban vs. Validación')\n",
    "plt.grid(True)\n",
    "plt.show()"
   ]
  },
  {
   "cell_type": "markdown",
   "id": "fe9aa288-d83b-4024-a5be-9a94e0a21400",
   "metadata": {},
   "source": [
    "* Profundidad:\n",
    "\n",
    "En la gráfica Esteban demuestra consistentemente alcanzar una profundidad significativa en cada sentadilla, llegando a valores cercanos o incluso más allá de -80 grados.\n",
    "\n",
    "El sujeto de validación también alcanza una profundidad considerable, pero parece que no es tan pronunciada como la de Esteban, deteniéndose justo por encima de los -70 grados.\n",
    "\n",
    "* Consistencia:\n",
    "\n",
    "Esteban mantiene una consistencia en su amplitud de movimiento durante todo el ejercicio, lo que indica una técnica estable y repetitiva.\n",
    "\n",
    "El sujeto de validación también muestra una buena consistencia en la amplitud de sus movimientos, aunque hay ligeras variaciones en la profundidad a lo largo de las repeticiones.\n",
    "\n",
    "* Velocidad de Descenso:\n",
    "\n",
    "La velocidad de descenso de Esteban puede interpretarse como relativamente rápida debido a las pendientes pronunciadas en la curva roja durante las fases descendentes.\n",
    "\n",
    "La curva del sujeto de validación tiene una pendiente ligeramente menos pronunciada, lo que sugeriría que su descenso es un poco más controlado o lento en comparación con Esteban.\n",
    "\n",
    "* Velocidad de Ascenso:\n",
    "\n",
    "Esteban muestra un ascenso rápido, caracterizado por las recuperaciones agudas y rápidas a la línea de base después de cada sentadilla.\n",
    "\n",
    "El sujeto de validación parece tener una velocidad de ascenso también rápida pero con ligeras variaciones en la rapidez con la que regresa a la línea de base, lo que podría indicar una técnica ligeramente menos explosiva que la de Esteban.\n",
    "\n",
    "Por lo que la calificación que le ponemos al sujeto de Velidación en este caso es de:\n",
    "\n",
    "##### **1**\n"
   ]
  }
 ],
 "metadata": {
  "kernelspec": {
   "display_name": "Python 3 (ipykernel)",
   "language": "python",
   "name": "python3"
  },
  "language_info": {
   "codemirror_mode": {
    "name": "ipython",
    "version": 3
   },
   "file_extension": ".py",
   "mimetype": "text/x-python",
   "name": "python",
   "nbconvert_exporter": "python",
   "pygments_lexer": "ipython3",
   "version": "3.11.4"
  }
 },
 "nbformat": 4,
 "nbformat_minor": 5
}
